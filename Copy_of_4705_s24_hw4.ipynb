{
  "cells": [
    {
      "cell_type": "markdown",
      "metadata": {
        "id": "view-in-github",
        "colab_type": "text"
      },
      "source": [
        "<a href=\"https://colab.research.google.com/github/shaigoldman/4705-s24-homework4-bertsrl/blob/main/Copy_of_4705_s24_hw4.ipynb\" target=\"_parent\"><img src=\"https://colab.research.google.com/assets/colab-badge.svg\" alt=\"Open In Colab\"/></a>"
      ]
    },
    {
      "cell_type": "markdown",
      "id": "6703077a",
      "metadata": {
        "id": "6703077a"
      },
      "source": [
        "# COMS W4705 Spring 24\n",
        "## Homework 4 - Semantic Role Labelling with BERT\n",
        "\n",
        "The goal of this assignment is to train and evaluate a PropBank-style semantic role labeling (SRL) system. Following (Collobert et al. 2011) and others, we will treat this problem as a sequence-labeling task. For each input token, the system will predict a B-I-O tag, as illustrated in the following example:\n",
        "\n",
        "|The|judge|scheduled|to|preside|over|his|trial|was|removed|from|the|case|today|.|             \n",
        "|---|-----|---------|--|-------|----|---|-----|---|-------|----|---|----|-----|-|             \n",
        "|B-ARG1|I-ARG1|B-V|B-ARG2|I-ARG2|I-ARG2|I-ARG2|I-ARG2|O|O|O|O|O|O|O|\n",
        "|||schedule.01|||||||||||||\n",
        "\n",
        "Note that the same sentence may have multiple annotations for different predicates\n",
        "\n",
        "|The|judge|scheduled|to|preside|over|his|trial|was|removed|from|the|case|today|.|             \n",
        "|---|-----|---------|--|-------|----|---|-----|---|-------|----|---|----|-----|-|             \n",
        "|B-ARG1|I-ARG1|I-ARG1|I-ARG1|I-ARG1|I-ARG1|I-ARG1|I-ARG1|O|B-V|B-ARG2|I-ARG2|I-ARG2|B-ARGM-TMP|O|\n",
        "||||||||||remove.01||||||\n",
        "\n",
        "and not all predicates need to be verbs\n",
        "\n",
        "|The|judge|scheduled|to|preside|over|his|trial|was|removed|from|the|case|today|.|             \n",
        "|---|-----|---------|--|-------|----|---|-----|---|-------|----|---|----|-----|-|    \n",
        "|O|O|O|O|O|O|B-ARG1|B-V|O|O|O|O|O|O|O|\n",
        "||||||||try.02||||||||\n",
        "\n",
        "The SRL system will be implemented in [PyTorch](https://pytorch.org/). We will use BERT (in the implementation provided by the [Huggingface transformers](https://huggingface.co/docs/transformers/index) library) to compute contextualized token representations and a custom classification head to predict semantic roles. We will fine-tune the pretrained BERT model on the SRL task.\n"
      ]
    },
    {
      "cell_type": "markdown",
      "id": "ff12fe94",
      "metadata": {
        "id": "ff12fe94"
      },
      "source": [
        "### Overview of the Approach\n",
        "\n",
        "The model we will train is pretty straightforward. Essentially, we will just encode the sentence with BERT, then take the contextualized embedding for each token and feed it into a classifier to predict the corresponding tag.\n",
        "\n",
        "Because we are only working on argument identification and labeling (not predicate identification), it is essentially that we tell the model where the predicate is. This can be accomplished in various ways. The approach we will choose here repurposes Bert's *segment embeddings*.\n",
        "\n",
        "Recall that BERT is trained on two input sentences, seperated by [SEP], and on a next-sentence-prediction objective (in addition to the masked LM objective). To help BERT comprehend which sentence a given token belongs to, the original BERT uses a segment embedding, using A for the first sentene, and B for the second sentence 2.\n",
        "Because we are labeling only a single sentence at a time, we can use the segment embeddings to indicate the predicate position instead: The predicate is labeled as segment B (1) and all other tokens will be labeled as segment A (0).\n",
        "\n",
        "<img src=\"https://github.com/daniel-bauer/4705-f23-hw5/blob/main/bert_srl_model.png?raw=true\" width=400px>"
      ]
    },
    {
      "cell_type": "markdown",
      "id": "68325e53",
      "metadata": {
        "id": "68325e53"
      },
      "source": [
        "## Setup: GCP, Jupyter, PyTorch, GPU\n",
        "\n",
        "To make sure that PyTorch is available and can use the GPU,run the following cell which should return True. If it doesn't, make sure the GPU drivers and CUDA are installed correctly.\n",
        "\n",
        "GPU support is required for this assignment -- you will not be able to fine-tune BERT on a CPU."
      ]
    },
    {
      "cell_type": "code",
      "execution_count": 2,
      "id": "aad94eef",
      "metadata": {
        "id": "aad94eef",
        "outputId": "ed87b7d7-dc52-4833-80eb-e659a605857f",
        "colab": {
          "base_uri": "https://localhost:8080/"
        }
      },
      "outputs": [
        {
          "output_type": "execute_result",
          "data": {
            "text/plain": [
              "False"
            ]
          },
          "metadata": {},
          "execution_count": 2
        }
      ],
      "source": [
        "import torch\n",
        "torch.cuda.is_available()"
      ]
    },
    {
      "cell_type": "markdown",
      "id": "3fe1c8ac",
      "metadata": {
        "id": "3fe1c8ac"
      },
      "source": [
        "## Dataset: Ontonotes 5.0 English SRL annotations\n",
        "\n",
        "We will work with the English part of the [Ontonotes 5.0](https://catalog.ldc.upenn.edu/LDC2013T19) data. This is an extension of PropBank, using the same type of annotation. Ontonotes contains annotations other than predicate/argument structures, but we will use the PropBank style SRL annotations only. *Important*: This data set is provided to you for use in COMS 4705 only! Columbia is a subscriber to LDC and is allowed to use the data for educational purposes. However, you may not use the dataset in projects unrelated to Columbia teaching or research.\n",
        "\n",
        "If you haven't done so already, you can download the data here:\n"
      ]
    },
    {
      "cell_type": "code",
      "execution_count": 3,
      "id": "0c2f2645",
      "metadata": {
        "id": "0c2f2645",
        "colab": {
          "base_uri": "https://localhost:8080/"
        },
        "outputId": "845932c1-e86a-411d-c987-9376505d9e83"
      },
      "outputs": [
        {
          "output_type": "stream",
          "name": "stdout",
          "text": [
            "--2024-04-17 19:45:48--  https://storage.googleapis.com/4705-bert-srl-data/ontonotes_srl.zip\n",
            "Resolving storage.googleapis.com (storage.googleapis.com)... 142.251.2.207, 2607:f8b0:4023:c0d::cf\n",
            "Connecting to storage.googleapis.com (storage.googleapis.com)|142.251.2.207|:443... connected.\n",
            "HTTP request sent, awaiting response... 200 OK\n",
            "Length: 12369688 (12M) [application/zip]\n",
            "Saving to: ‘ontonotes_srl.zip’\n",
            "\n",
            "ontonotes_srl.zip   100%[===================>]  11.80M  22.5MB/s    in 0.5s    \n",
            "\n",
            "2024-04-17 19:45:49 (22.5 MB/s) - ‘ontonotes_srl.zip’ saved [12369688/12369688]\n",
            "\n"
          ]
        }
      ],
      "source": [
        "# ! wget https://storage.googleapis.com/4705-bert-srl-data/ontonotes_srl.zip"
      ]
    },
    {
      "cell_type": "code",
      "execution_count": 4,
      "id": "14aad58e",
      "metadata": {
        "id": "14aad58e"
      },
      "outputs": [],
      "source": [
        "# ! unzip ontonotes_srl.zip"
      ]
    },
    {
      "cell_type": "markdown",
      "id": "8cae08a9",
      "metadata": {
        "id": "8cae08a9"
      },
      "source": [
        "The data has been pre-processed in the following format. There are three files:\n",
        "\n",
        "`propbank_dev.tsv`\t`propbank_test.tsv`\t`propbank_train.tsv`\n",
        "\n",
        "Each of these files is in a tab-separated value format. A single predicate/argument structure annotation consists of four rows. For example\n",
        "\n",
        "```\n",
        "ontonotes/bc/cnn/00/cnn_0000.152.1\n",
        "The     judge   scheduled       to      preside over    his     trial   was     removed from    the     case    today   /.\n",
        "                schedule.01\n",
        "B-ARG1  I-ARG1  B-V     B-ARG2  I-ARG2  I-ARG2  I-ARG2  I-ARG2  O       O       O       O       O       O       O\n",
        "```\n",
        "\n",
        "* The first row is a unique identifier (1st annotation of the 152nd sentence in the file ontonotes/bc/cnn/00/cnn_0000).\n",
        "* The second row contains the tokens of the sentence (tab-separated).\n",
        "* The third row contains the probank frame name for the predicate (empty field for all other tokens).\n",
        "* The fourth row contains the B-I-O tag for each token.\n",
        "\n",
        "The file `rolelist.txt` contains a list of propbank BIO labels in the dataset (i.e. possible output tokens). This list has been filtered to contain only roles that appeared more than 1000 times in the training data.\n",
        "We will load this list and create mappings from numeric ids to BIO tags and back."
      ]
    },
    {
      "cell_type": "code",
      "execution_count": 5,
      "id": "dc4c027a",
      "metadata": {
        "id": "dc4c027a",
        "colab": {
          "base_uri": "https://localhost:8080/",
          "height": 216
        },
        "outputId": "ce01525f-9e90-416b-b880-3d5be006fce3"
      },
      "outputs": [
        {
          "output_type": "error",
          "ename": "FileNotFoundError",
          "evalue": "[Errno 2] No such file or directory: 'role_list.txt'",
          "traceback": [
            "\u001b[0;31m---------------------------------------------------------------------------\u001b[0m",
            "\u001b[0;31mFileNotFoundError\u001b[0m                         Traceback (most recent call last)",
            "\u001b[0;32m<ipython-input-5-0281c9a66d5c>\u001b[0m in \u001b[0;36m<cell line: 2>\u001b[0;34m()\u001b[0m\n\u001b[1;32m      1\u001b[0m \u001b[0mrole_to_id\u001b[0m \u001b[0;34m=\u001b[0m \u001b[0;34m{\u001b[0m\u001b[0;34m}\u001b[0m\u001b[0;34m\u001b[0m\u001b[0;34m\u001b[0m\u001b[0m\n\u001b[0;32m----> 2\u001b[0;31m \u001b[0;32mwith\u001b[0m \u001b[0mopen\u001b[0m\u001b[0;34m(\u001b[0m\u001b[0;34m\"role_list.txt\"\u001b[0m\u001b[0;34m,\u001b[0m\u001b[0;34m'r'\u001b[0m\u001b[0;34m)\u001b[0m \u001b[0;32mas\u001b[0m \u001b[0mf\u001b[0m\u001b[0;34m:\u001b[0m\u001b[0;34m\u001b[0m\u001b[0;34m\u001b[0m\u001b[0m\n\u001b[0m\u001b[1;32m      3\u001b[0m     \u001b[0mrole_list\u001b[0m \u001b[0;34m=\u001b[0m \u001b[0;34m[\u001b[0m\u001b[0mx\u001b[0m\u001b[0;34m.\u001b[0m\u001b[0mstrip\u001b[0m\u001b[0;34m(\u001b[0m\u001b[0;34m)\u001b[0m \u001b[0;32mfor\u001b[0m \u001b[0mx\u001b[0m \u001b[0;32min\u001b[0m \u001b[0mf\u001b[0m\u001b[0;34m.\u001b[0m\u001b[0mreadlines\u001b[0m\u001b[0;34m(\u001b[0m\u001b[0;34m)\u001b[0m\u001b[0;34m]\u001b[0m\u001b[0;34m\u001b[0m\u001b[0;34m\u001b[0m\u001b[0m\n\u001b[1;32m      4\u001b[0m     \u001b[0mrole_to_id\u001b[0m \u001b[0;34m=\u001b[0m \u001b[0mdict\u001b[0m\u001b[0;34m(\u001b[0m\u001b[0;34m(\u001b[0m\u001b[0mrole\u001b[0m\u001b[0;34m,\u001b[0m \u001b[0mindex\u001b[0m\u001b[0;34m)\u001b[0m \u001b[0;32mfor\u001b[0m \u001b[0;34m(\u001b[0m\u001b[0mindex\u001b[0m\u001b[0;34m,\u001b[0m \u001b[0mrole\u001b[0m\u001b[0;34m)\u001b[0m \u001b[0;32min\u001b[0m \u001b[0menumerate\u001b[0m\u001b[0;34m(\u001b[0m\u001b[0mrole_list\u001b[0m\u001b[0;34m)\u001b[0m\u001b[0;34m)\u001b[0m\u001b[0;34m\u001b[0m\u001b[0;34m\u001b[0m\u001b[0m\n\u001b[1;32m      5\u001b[0m     \u001b[0mrole_to_id\u001b[0m\u001b[0;34m[\u001b[0m\u001b[0;34m'[PAD]'\u001b[0m\u001b[0;34m]\u001b[0m \u001b[0;34m=\u001b[0m \u001b[0;34m-\u001b[0m\u001b[0;36m100\u001b[0m\u001b[0;34m\u001b[0m\u001b[0;34m\u001b[0m\u001b[0m\n",
            "\u001b[0;31mFileNotFoundError\u001b[0m: [Errno 2] No such file or directory: 'role_list.txt'"
          ]
        }
      ],
      "source": [
        "role_to_id = {}\n",
        "with open(\"role_list.txt\",'r') as f:\n",
        "    role_list = [x.strip() for x in f.readlines()]\n",
        "    role_to_id = dict((role, index) for (index, role) in enumerate(role_list))\n",
        "    role_to_id['[PAD]'] = -100\n",
        "\n",
        "    id_to_role = dict((index, role) for (role, index) in role_to_id.items())\n"
      ]
    },
    {
      "cell_type": "markdown",
      "id": "f07cdf31",
      "metadata": {
        "id": "f07cdf31"
      },
      "source": [
        "Note that we are also mapping the '[PAD]' token to the value -100. This allows the loss function to ignore these tokens during training."
      ]
    },
    {
      "cell_type": "markdown",
      "id": "88096be5",
      "metadata": {
        "id": "88096be5"
      },
      "source": [
        "\n",
        "\n"
      ]
    },
    {
      "cell_type": "markdown",
      "id": "aae727bf",
      "metadata": {
        "id": "aae727bf"
      },
      "source": [
        "## Part 1 - Data Preparation\n",
        "\n",
        "Before you can build the SRL model, you first need to preprocess the data.\n",
        "\n",
        "\n",
        "### 1.1 - Tokenization\n",
        "\n",
        "One challenge is that the pre-trained BERT model uses subword (\"WordPiece\") tokenization, but the Ontonotes data does not. Fortunately Huggingface transformers provides a tokenizer."
      ]
    },
    {
      "cell_type": "code",
      "execution_count": 7,
      "id": "8a2d7d03",
      "metadata": {
        "id": "8a2d7d03",
        "outputId": "0fd8995e-fc90-4dfd-c72e-65c4dc5d686f",
        "colab": {
          "base_uri": "https://localhost:8080/",
          "height": 486,
          "referenced_widgets": [
            "0b2bb5285f28438381b8f6d648ea1e5d",
            "71f11d97989b49bdb5d0aeea35a05d9a",
            "e16924487c05478883d17e81e5ac312e",
            "d1fbc1c822ff467fbc86029669c1dbd9",
            "fe34106c3a8944cd8abc44babf6093e1",
            "85fc498bf7a44af081b4bcd5529304ff",
            "d6e1495cbb8e49bf9a797e473e9425d1",
            "5def27a51df4409c9014c73a5f2e96ed",
            "07267e770a084f4cbf805e343b4d7f7b",
            "f77d397393b847b1be584c5da61d705f",
            "3e420a76e8254e968b0d3c7836294087",
            "dc7daef6aa8244f4af0dd8e49dc62ecc",
            "586fc2d452154581940fde916ae19453",
            "a51fb621743a4408b50bae460660a58f",
            "bb525ba32b5c41919b237be23c489a8a",
            "c1d5e1dba01f4fbfa1fc90a8d0364051",
            "7bb76406004e4949baa47f12a5798424",
            "2e7b67985f074d6197b40f40020e7be0",
            "d9c0447e42b149cc88d8268c08fa5378",
            "913d02b224d142589783f61ad4550048",
            "e0bd874cb47e47a1b3e6a8eefe373d07",
            "746ecaf03cc1412fafc89e96ee5ef9d7",
            "890b156ca0ee447487b78b03cc7929d5",
            "2c6a48f179854cfe8b5fe2a261b3aabe",
            "c14c3fd1de5942299965973a36f2a091",
            "e840c93f40054a4583e3a46ba031e684",
            "76f0b88dcf034c7a90424f36a276ed82",
            "76eff31ae6864b1ea898c89e200e0d65",
            "2c7d376e5ab146368a3a7e91250b75b1",
            "bd069765ffbf44688ba1160ebe8b91b5",
            "986ff15e981a43cba366a24727eb1bc8",
            "406acc2b4ab04d8bac6262f0438656e1",
            "c8dedee3505c4484a14729229e606c6e",
            "bd51f26573da4b1d9a6d5bc7024c13f8",
            "8a6bea097f9a4a6d92819501f602bf82",
            "5e2fe5d1f23b45f888b74b274ae587e1",
            "05d491f31eb44202b62c477bc32171a7",
            "a097da49d9cb4c0588934ea430c5cc12",
            "9f975e05b35146bea45ddce8d44e0b08",
            "102fb0d101f64f039319b7e91893241b",
            "f15255d2a3eb48e4b5b71d2682916e5c",
            "042dc721da9e40a3b139f44892a112fe",
            "de24eef6e17c408c849bcebc5d3e5e67",
            "515e5f80ec8a4f6495efebdc4b0a36e8"
          ]
        }
      },
      "outputs": [
        {
          "output_type": "stream",
          "name": "stderr",
          "text": [
            "/usr/local/lib/python3.10/dist-packages/huggingface_hub/utils/_token.py:88: UserWarning: \n",
            "The secret `HF_TOKEN` does not exist in your Colab secrets.\n",
            "To authenticate with the Hugging Face Hub, create a token in your settings tab (https://huggingface.co/settings/tokens), set it as secret in your Google Colab and restart your session.\n",
            "You will be able to reuse this secret in all of your notebooks.\n",
            "Please note that authentication is recommended but still optional to access public models or datasets.\n",
            "  warnings.warn(\n"
          ]
        },
        {
          "output_type": "display_data",
          "data": {
            "text/plain": [
              "tokenizer_config.json:   0%|          | 0.00/48.0 [00:00<?, ?B/s]"
            ],
            "application/vnd.jupyter.widget-view+json": {
              "version_major": 2,
              "version_minor": 0,
              "model_id": "0b2bb5285f28438381b8f6d648ea1e5d"
            }
          },
          "metadata": {}
        },
        {
          "output_type": "display_data",
          "data": {
            "text/plain": [
              "vocab.txt:   0%|          | 0.00/232k [00:00<?, ?B/s]"
            ],
            "application/vnd.jupyter.widget-view+json": {
              "version_major": 2,
              "version_minor": 0,
              "model_id": "dc7daef6aa8244f4af0dd8e49dc62ecc"
            }
          },
          "metadata": {}
        },
        {
          "output_type": "display_data",
          "data": {
            "text/plain": [
              "tokenizer.json:   0%|          | 0.00/466k [00:00<?, ?B/s]"
            ],
            "application/vnd.jupyter.widget-view+json": {
              "version_major": 2,
              "version_minor": 0,
              "model_id": "890b156ca0ee447487b78b03cc7929d5"
            }
          },
          "metadata": {}
        },
        {
          "output_type": "display_data",
          "data": {
            "text/plain": [
              "config.json:   0%|          | 0.00/570 [00:00<?, ?B/s]"
            ],
            "application/vnd.jupyter.widget-view+json": {
              "version_major": 2,
              "version_minor": 0,
              "model_id": "bd51f26573da4b1d9a6d5bc7024c13f8"
            }
          },
          "metadata": {}
        },
        {
          "output_type": "execute_result",
          "data": {
            "text/plain": [
              "['this',\n",
              " 'is',\n",
              " 'an',\n",
              " 'un',\n",
              " '##bel',\n",
              " '##ie',\n",
              " '##va',\n",
              " '##bly',\n",
              " 'boring',\n",
              " 'test',\n",
              " 'sentence',\n",
              " '.']"
            ]
          },
          "metadata": {},
          "execution_count": 7
        }
      ],
      "source": [
        "from transformers import BertTokenizerFast\n",
        "tokenizer = BertTokenizerFast.from_pretrained('bert-base-uncased', do_lower_case=True)\n",
        "tokenizer.tokenize(\"This is an unbelievably boring test sentence.\")"
      ]
    },
    {
      "cell_type": "markdown",
      "id": "ac1924bd",
      "metadata": {
        "id": "ac1924bd"
      },
      "source": [
        "**TODO**:\n",
        "We need to be able to maintain the correct labels (B-I-O tags) for each of the subwords.\n",
        "Complete the following function that takes a list of tokens and a list of B-I-O labels of the same length as parameters, and returns a new token / label pair, as illustrated in the following example.\n",
        "\n",
        "\n",
        "```\n",
        ">>> tokenize_with_labels(\"the fancyful penguin devoured yummy fish .\".split(), \"B-ARG0 I-ARG0 I-ARG0 B-V B-ARG1 I-ARG1 O\".split(), tokenizer)\n",
        "(['the',\n",
        "  'fancy',\n",
        "  '##ful',\n",
        "  'penguin',\n",
        "  'dev',\n",
        "  '##oured',\n",
        "  'yu',\n",
        "  '##mmy',\n",
        "  'fish',\n",
        "  '.'],\n",
        " ['B-ARG0',\n",
        "  'I-ARG0',\n",
        "  'I-ARG0',\n",
        "  'I-ARG0',\n",
        "  'B-V',\n",
        "  'I-V',\n",
        "  'B-ARG1',\n",
        "  'I-ARG1',\n",
        "  'I-ARG1',\n",
        "  'O'])\n",
        "\n",
        "```\n",
        "\n",
        "To approach this problem, iterate through each word/label pair in the sentence. Call the tokenizer on the word. This may result in one or more tokens. Create the correct number of labels to match the number of tokens. Take care to not generate multiple B- tokens.\n",
        "\n",
        "\n",
        "This approach is a bit slower than tokenizing the entire sentence, but is necessary to produce proper input tokenization for the pre-trained BERT model, and the matching target labels."
      ]
    },
    {
      "cell_type": "code",
      "execution_count": 7,
      "id": "b76ca6f4",
      "metadata": {
        "id": "b76ca6f4"
      },
      "outputs": [],
      "source": []
    },
    {
      "cell_type": "code",
      "execution_count": 8,
      "id": "8140fc39",
      "metadata": {
        "id": "8140fc39"
      },
      "outputs": [],
      "source": [
        "def tokenize_with_labels(sentence, text_labels, tokenizer):\n",
        "    \"\"\"\n",
        "    Word piece tokenization makes it difficult to match word labels\n",
        "    back up with individual word pieces.\n",
        "    \"\"\"\n",
        "\n",
        "    tokenized_sentence = []\n",
        "    labels = []\n",
        "\n",
        "    for word, label in zip(sentence, text_labels):\n",
        "\n",
        "        w_tokens = tokenizer.tokenize(word)\n",
        "        tokenized_sentence.extend(w_tokens)\n",
        "        labels.append(label)\n",
        "        if label[0] == 'B':\n",
        "            label = 'I' + label[1:]\n",
        "        labels.extend([label for _ in w_tokens[1:]])\n",
        "\n",
        "    return tokenized_sentence, labels"
      ]
    },
    {
      "cell_type": "code",
      "execution_count": 9,
      "id": "d71b40c4",
      "metadata": {
        "id": "d71b40c4",
        "outputId": "67cd2475-39fb-4dd5-e535-fe9d5da8a58d",
        "colab": {
          "base_uri": "https://localhost:8080/"
        }
      },
      "outputs": [
        {
          "output_type": "execute_result",
          "data": {
            "text/plain": [
              "[101, 1996, 11281, 3993, 13987, 16475, 16777, 9805, 18879, 3869, 1012]"
            ]
          },
          "metadata": {},
          "execution_count": 9
        }
      ],
      "source": [
        "tokenizer.convert_tokens_to_ids(['[CLS]',\n",
        "                                 'the',\n",
        "  'fancy',\n",
        "  '##ful',\n",
        "  'penguin',\n",
        "  'dev',\n",
        "  '##oured',\n",
        "  'yu',\n",
        "  '##mmy',\n",
        "  'fish',\n",
        "  '.'])"
      ]
    },
    {
      "cell_type": "code",
      "execution_count": 10,
      "id": "f748d120",
      "metadata": {
        "id": "f748d120",
        "outputId": "264db3ba-33ff-4a71-a3ea-da5173bb0fc2",
        "colab": {
          "base_uri": "https://localhost:8080/"
        }
      },
      "outputs": [
        {
          "output_type": "execute_result",
          "data": {
            "text/plain": [
              "(['the',\n",
              "  'fancy',\n",
              "  '##ful',\n",
              "  'penguin',\n",
              "  'dev',\n",
              "  '##oured',\n",
              "  'yu',\n",
              "  '##mmy',\n",
              "  'fish',\n",
              "  '.'],\n",
              " ['B-ARG0',\n",
              "  'I-ARG0',\n",
              "  'I-ARG0',\n",
              "  'I-ARG0',\n",
              "  'B-V',\n",
              "  'I-V',\n",
              "  'B-ARG1',\n",
              "  'I-ARG1',\n",
              "  'I-ARG1',\n",
              "  'O'])"
            ]
          },
          "metadata": {},
          "execution_count": 10
        }
      ],
      "source": [
        "tokenize_with_labels(\"the fancyful penguin devoured yummy fish .\".split(), \"B-ARG0 I-ARG0 I-ARG0 B-V B-ARG1 I-ARG1 O\".split(), tokenizer)"
      ]
    },
    {
      "cell_type": "markdown",
      "id": "77bb9076",
      "metadata": {
        "id": "77bb9076"
      },
      "source": [
        "### 1.2 Loading the Dataset\n",
        "\n",
        "Next, we are creating a PyTorch [Dataset](https://pytorch.org/docs/stable/data.html#torch.utils.data.Dataset) class. This class acts as a contained for the training, development, and testing data in memory. You should already be familiar with Datasets and Dataloaders from homework 3.\n",
        "\n",
        "1.2.1 **TODO**: Write the \\_\\_init\\_\\_(self, filename) method that reads in the data from a data file (specified by the filename).\n",
        "\n",
        "For each annotation you start with  the tokens in the sentence, and the BIO tags. Then you need to create the following\n",
        "\n",
        "1. call the `tokenize_with_labels` function to tokenize the sentence.\n",
        "2. Add the (token, label) pair to the self.items list.\n",
        "\n",
        "1.2.2 **TODO**: Write the \\_\\_len\\_\\_(self) method that returns the total number of items.\n",
        "\n",
        "1.2.3 **TODO**: Write the \\_\\_getitem\\_\\_(self, k) method that returns a single item in a format BERT will understand.\n",
        "* We need to process the sentence by adding \"\\[CLS\\]\" as the first token and \"\\[SEP\\]\" as the last token. The need to pad the token sequence to 128 tokens using the \"\\[PAD\\]\" symbol. This needs to happen both for the inputs (sentence token sequence) and outputs (BIO tag sequence).\n",
        "* We need to create an *attention mask*, which is a sequence of 128 tokens indicating the actual input symbols (as a 1) and \\[PAD\\] symbols (as a 0).\n",
        "* We need to create a *predicate indicator* mask, which is a sequence of 128 tokens with at most one 1, in the position of the \"B-V\" tag. All other entries should be 0. The model will use this information to understand where the predicate is located.\n",
        "\n",
        "* Finally, we need to convert the token and tag sequence into numeric indices. For the tokens, this can be done using the `tokenizer.convert_tokens_to_ids` method. For the tags, use the `role_to_id` dictionary.\n",
        "Each sequence must be a pytorch tensor of shape (1,128). You can convert a list of integer values like this `torch.tensor(token_ids, dtype=torch.long)`.\n",
        "\n",
        "To keep everything organized, we will return a dictionary in the following format\n",
        "\n",
        "```\n",
        "{'ids': token_tensor,\n",
        " 'targets': tag_tensor,\n",
        " 'mask': attention_mask_tensor,\n",
        " 'pred': predicate_indicator_tensor}\n",
        "```\n",
        "\n",
        "\n",
        "(Hint: To debug these, read in the first annotation only / the first few annotations)\n"
      ]
    },
    {
      "cell_type": "code",
      "execution_count": 11,
      "id": "9f5bd32f",
      "metadata": {
        "id": "9f5bd32f"
      },
      "outputs": [],
      "source": [
        "from torch.utils.data import Dataset, DataLoader\n",
        "\n",
        "class SrlData(Dataset):\n",
        "\n",
        "    def __init__(self, filename):\n",
        "\n",
        "        super(SrlData, self).__init__()\n",
        "\n",
        "        self.max_len = 128 # the max number of tokens inputted to the transformer.\n",
        "\n",
        "        self.tokenizer = BertTokenizerFast.from_pretrained('bert-base-uncased', do_lower_case=True)\n",
        "\n",
        "        self.items = []\n",
        "        # complete this method\n",
        "\n",
        "        with open(filename, 'r') as f:\n",
        "            ind = 0\n",
        "            for line in f.readlines():\n",
        "                if ind == 1:\n",
        "                    sentence = line\n",
        "                elif ind == 3:\n",
        "                    labels = line\n",
        "                    self.items.append(tokenize_with_labels(sentence.split(), labels.split(), self.tokenizer))\n",
        "                ind = (ind+1)%4\n",
        "\n",
        "        self.num_items = len(self.items)\n",
        "\n",
        "\n",
        "    def __len__(self):\n",
        "        return self.num_items\n",
        "\n",
        "    def pad_list(self, wlist):\n",
        "        wlist = ['[CLS]'] + wlist\n",
        "        padding = ['[PAD]'] * (128-len(wlist))\n",
        "        wlist = wlist + padding\n",
        "        wlist[-1] = '[SEP]'\n",
        "        return wlist\n",
        "\n",
        "    def __getitem__(self, k):\n",
        "        words, labels = self.items[k]\n",
        "        words = self.pad_list(words)[:128]\n",
        "        labels = self.pad_list(labels)[:128]\n",
        "\n",
        "        ids = tokenizer.convert_tokens_to_ids(words)\n",
        "        attn_mask = [1 if i != '[PAD]' else 0 for i in words]\n",
        "        targets = [role_to_id[role] if role in role_to_id else role_to_id['O'] for role in labels]\n",
        "        pred = [1 if i == 'B-V' else 0 for i in labels]\n",
        "\n",
        "\n",
        "        #complete this method\n",
        "        return {'ids': torch.tensor([ids], dtype=torch.long),\n",
        "                'mask': torch.tensor([attn_mask], dtype=torch.long), #attn_mask,\n",
        "                'targets': torch.tensor([targets], dtype=torch.long),#label_tensor,\n",
        "                'pred': torch.tensor([pred], dtype=torch.long),#pred_tensor\n",
        "               }\n"
      ]
    },
    {
      "cell_type": "code",
      "execution_count": 12,
      "id": "da0b476d",
      "metadata": {
        "id": "da0b476d"
      },
      "outputs": [],
      "source": [
        "# Reading the training data takes a while for the entire data because we preprocess all data offline\n",
        "data = SrlData(\"propbank_train.tsv\")"
      ]
    },
    {
      "cell_type": "markdown",
      "id": "0730aff9",
      "metadata": {
        "id": "0730aff9"
      },
      "source": [
        "## 2. Model Definition"
      ]
    },
    {
      "cell_type": "code",
      "execution_count": 14,
      "id": "cb11f9c0",
      "metadata": {
        "id": "cb11f9c0"
      },
      "outputs": [],
      "source": [
        "from torch.nn import Module, Linear, CrossEntropyLoss\n",
        "from transformers import BertModel"
      ]
    },
    {
      "cell_type": "markdown",
      "id": "da684eff",
      "metadata": {
        "id": "da684eff"
      },
      "source": [
        "We will define the pyTorch model as a subclass of the [torch.nn.Module](https://pytorch.org/docs/stable/generated/torch.nn.Module.html) class. The code for the model is provided for you. It may help to take a look at the documentation to remind you of how Module works. Take a look at how the huggingface BERT model simply becomes another sub-module."
      ]
    },
    {
      "cell_type": "code",
      "execution_count": 15,
      "id": "37515695",
      "metadata": {
        "id": "37515695"
      },
      "outputs": [],
      "source": [
        "class SrlModel(Module):\n",
        "\n",
        "    def __init__(self):\n",
        "\n",
        "        super(SrlModel, self).__init__()\n",
        "\n",
        "        self.encoder = BertModel.from_pretrained(\"bert-base-uncased\")\n",
        "\n",
        "        # The following two lines would freeze the BERT parameters and allow us to train the classifier by itself.\n",
        "        # We are fine-tuning the model, so you can leave this commented out!\n",
        "        # for param in self.encoder.parameters():\n",
        "        #    param.requires_grad = False\n",
        "\n",
        "        # The linear classifier head, see model figure in the introduction.\n",
        "        self.classifier = Linear(768, len(role_to_id))\n",
        "\n",
        "\n",
        "    def forward(self, input_ids, attn_mask, pred_indicator):\n",
        "\n",
        "        # This defines the flow of data through the model\n",
        "\n",
        "        # Note the use of the \"token type ids\" which represents the segment encoding explained in the introduction.\n",
        "        # In our segment encoding, 1 indicates the predicate, and 0 indicates everything else.\n",
        "        bert_output =  self.encoder(input_ids=input_ids, attention_mask=attn_mask, token_type_ids=pred_indicator)\n",
        "\n",
        "        enc_tokens = bert_output[0] # the result of encoding the input with BERT\n",
        "        logits = self.classifier(enc_tokens) #feed into the classification layer to produce scores for each tag.\n",
        "\n",
        "        # Note that we are only interested in the argmax for each token, so we do not have to normalize\n",
        "        # to a probability distribution using softmax. The CrossEntropyLoss loss function takes this into account.\n",
        "        # It essentially computes the softmax first and then computes the negative log-likelihood for the target classes.\n",
        "        return logits"
      ]
    },
    {
      "cell_type": "code",
      "execution_count": 42,
      "id": "ba23ec3f",
      "metadata": {
        "id": "ba23ec3f"
      },
      "outputs": [],
      "source": [
        "model = SrlModel().to('cuda') # create new model and store weights in GPU memory"
      ]
    },
    {
      "cell_type": "markdown",
      "id": "9103d32e",
      "metadata": {
        "id": "9103d32e"
      },
      "source": [
        "Now we are ready to try running the model with just a single input example to check if it is working correctly. Clearly it has not been trained, so the output is not what we expect. But we can see what the loss looks like for an initial sanity check.\n",
        "\n",
        "**TODO**:\n",
        "* Take a single data item from the dev set, as provided by your Dataset class defined above. Obtain the input token ids, attention mask, predicate indicator mask, and target labels.\n",
        "* Run the model on the ids, attention mask, and predicate mask like this:"
      ]
    },
    {
      "cell_type": "code",
      "execution_count": 43,
      "id": "965c4177",
      "metadata": {
        "id": "965c4177"
      },
      "outputs": [],
      "source": [
        "d4 = data[4]"
      ]
    },
    {
      "cell_type": "code",
      "execution_count": 44,
      "id": "f1805480",
      "metadata": {
        "id": "f1805480"
      },
      "outputs": [],
      "source": [
        "# pick an item from the dataset. Then run\n",
        "\n",
        "outputs = model(d4['ids'].to('cuda'), d4['mask'].to('cuda'), d4['pred'].to('cuda'))"
      ]
    },
    {
      "cell_type": "markdown",
      "id": "cd7fd38b",
      "metadata": {
        "id": "cd7fd38b"
      },
      "source": [
        "**TODO**:\n",
        "Compute the loss on this one item only.\n",
        "The initial loss should be close to -ln(1/num_labels)\n",
        "\n",
        "Without training we would assume that all labels for each token (including the target label) are equally likely, so the negative log probability for the targets should be approximately $$ -\\ln\\left(\\frac{1}{\\text{num\\_labels}}\\right) $$ This is what the loss function should return on a single example. This is a good sanity check to run for any multi-class prediction problem."
      ]
    },
    {
      "cell_type": "code",
      "execution_count": 45,
      "id": "1a5f881d",
      "metadata": {
        "id": "1a5f881d",
        "outputId": "2c1fb9af-dd58-4aad-ed94-3a3abecba42a",
        "colab": {
          "base_uri": "https://localhost:8080/"
        }
      },
      "outputs": [
        {
          "output_type": "execute_result",
          "data": {
            "text/plain": [
              "3.970291913552122"
            ]
          },
          "metadata": {},
          "execution_count": 45
        }
      ],
      "source": [
        "import math\n",
        "-math.log(1 / len(role_to_id), math.e)"
      ]
    },
    {
      "cell_type": "code",
      "execution_count": 46,
      "id": "1a124d4f",
      "metadata": {
        "id": "1a124d4f",
        "outputId": "41f88476-44ba-4428-9020-a76398c624d6",
        "colab": {
          "base_uri": "https://localhost:8080/"
        }
      },
      "outputs": [
        {
          "output_type": "execute_result",
          "data": {
            "text/plain": [
              "4.0394415855407715"
            ]
          },
          "metadata": {},
          "execution_count": 46
        }
      ],
      "source": [
        "loss_function = CrossEntropyLoss(ignore_index = -100, reduction='mean')\n",
        "\n",
        "# complete this. Note that you still have to provide a (batch_size, input_pos)\n",
        "# tensor for each parameter, where batch_size =1\n",
        "\n",
        "dd = data[1]\n",
        "\n",
        "outputs =  model(dd['ids'].to('cuda'), dd['mask'].to('cuda'), dd['pred'].to('cuda'))\n",
        "\n",
        "loss = loss_function(outputs.view([1,53,128]).to('cuda'), dd['targets'].to('cuda'))\n",
        "loss.item()   #this should be approximately the score from the previous cell\n"
      ]
    },
    {
      "cell_type": "markdown",
      "id": "669a1037",
      "metadata": {
        "id": "669a1037"
      },
      "source": [
        "**TODO**: At this point you should also obtain the actual predictions by taking the argmax over each position.\n",
        "The result should look something like this (values will differ).\n",
        "\n",
        "```\n",
        "tensor([[ 1,  4,  4,  4,  4,  4,  5, 29, 29, 29,  4, 28,  6, 32, 32, 32, 32, 32,\n",
        "         32, 32, 30, 30, 32, 30, 32,  4, 32, 32, 30,  4, 49,  4, 49, 32, 30,  4,\n",
        "         32,  4, 32, 32,  4,  2,  4,  4, 32,  4, 32, 32, 32, 32, 30, 32, 32, 30,\n",
        "         32,  4,  4, 49,  4,  4,  4,  4,  4,  4,  4,  4,  4,  4,  6,  6, 32, 32,\n",
        "         30, 32, 32, 32, 32, 32, 30, 30, 30, 32, 30, 49, 49, 32, 32, 30,  4,  4,\n",
        "          4,  4, 29,  4,  4,  4,  4,  4,  4, 32,  4,  4,  4, 32,  4, 30,  4, 32,\n",
        "         30,  4, 32,  4,  4,  4,  4,  4, 32,  4,  4,  4,  4,  4,  4,  4,  4,  4,\n",
        "          4,  4]], device='cuda:0')\n",
        "```\n",
        "\n",
        "Then use the id_to_role dictionary to decode to actual tokens.\n",
        "\n",
        "```\n",
        "['[CLS]', 'O', 'O', 'O', 'O', 'O', 'B-ARG0', 'I-ARG0', 'I-ARG0', 'I-ARG0', 'O', 'B-V', 'B-ARG1', 'I-ARG2', 'I-ARG2', 'I-ARG2', 'I-ARG2', 'I-ARG2', 'I-ARG2', 'I-ARG2', 'I-ARG1', 'I-ARG1', 'I-ARG2', 'I-ARG1', 'I-ARG2', 'O', 'I-ARG2', 'I-ARG2', 'I-ARG1', 'O', 'I-ARGM-TMP', 'O', 'I-ARGM-TMP', 'I-ARG2', 'I-ARG1', 'O', 'I-ARG2', 'O', 'I-ARG2', 'I-ARG2', 'O', '[SEP]', 'O', 'O', 'I-ARG2', 'O', 'I-ARG2', 'I-ARG2', 'I-ARG2', 'I-ARG2', 'I-ARG1', 'I-ARG2', 'I-ARG2', 'I-ARG1', 'I-ARG2', 'O', 'O', 'I-ARGM-TMP', 'O', 'O', 'O', 'O', 'O', 'O', 'O', 'O', 'O', 'O', 'B-ARG1', 'B-ARG1', 'I-ARG2', 'I-ARG2', 'I-ARG1', 'I-ARG2', 'I-ARG2', 'I-ARG2', 'I-ARG2', 'I-ARG2', 'I-ARG1', 'I-ARG1', 'I-ARG1', 'I-ARG2', 'I-ARG1', 'I-ARGM-TMP', 'I-ARGM-TMP', 'I-ARG2', 'I-ARG2', 'I-ARG1', 'O', 'O', 'O', 'O', 'I-ARG0', 'O', 'O', 'O', 'O', 'O', 'O', 'I-ARG2', 'O', 'O', 'O', 'I-ARG2', 'O', 'I-ARG1', 'O', 'I-ARG2', 'I-ARG1', 'O', 'I-ARG2', 'O', 'O', 'O', 'O', 'O', 'I-ARG2', 'O', 'O', 'O', 'O', 'O', 'O', 'O', 'O', 'O', 'O', 'O']\n",
        "```\n",
        "\n",
        "For now, just make sure you understand how to do this for a single example. Later, you will write a more formal function to do this once we have trained the model."
      ]
    },
    {
      "cell_type": "code",
      "execution_count": 47,
      "id": "69c2dcc0",
      "metadata": {
        "id": "69c2dcc0"
      },
      "outputs": [],
      "source": [
        "role_ids = list(id_to_role.keys())\n",
        "predictions = [role_ids[outputs[0][i].argmax()] for i in range(128)]\n",
        "str_pred = [id_to_role[i] for i in predictions]"
      ]
    },
    {
      "cell_type": "markdown",
      "id": "20d52991",
      "metadata": {
        "id": "20d52991"
      },
      "source": [
        "## 3. Training loop"
      ]
    },
    {
      "cell_type": "markdown",
      "id": "edba250d",
      "metadata": {
        "id": "edba250d"
      },
      "source": [
        "pytorch provides a DataLoader class that can be wrapped around a Dataset to easily use the dataset for training. The DataLoader allows us to easily adjust the batch size and shuffle the data."
      ]
    },
    {
      "cell_type": "code",
      "execution_count": 48,
      "id": "2ecd7448",
      "metadata": {
        "id": "2ecd7448"
      },
      "outputs": [],
      "source": [
        "from torch.utils.data import DataLoader\n",
        "loader = DataLoader(data, batch_size = 32, shuffle = True)"
      ]
    },
    {
      "cell_type": "markdown",
      "id": "e7496c62",
      "metadata": {
        "id": "e7496c62"
      },
      "source": [
        "The following cell contains the main training loop. The code should work as written and report the loss after each batch,\n",
        "cumulative average loss after each 100 batches, and print out the final average loss after the epoch.\n",
        "\n",
        "**TODO**: Modify the training loop belowso that it also computes the accuracy for each batch and reports the\n",
        "average accuracy after the epoch.\n",
        "The accuracy is the number of correctly predicted token labels out of the number of total predictions.\n",
        "Make sure you exclude [PAD] tokens, i.e. tokens for which the target label is -100. It's okay to include [CLS] and [SEP] in the accuracy calculation."
      ]
    },
    {
      "cell_type": "code",
      "execution_count": 49,
      "id": "7a7abad9",
      "metadata": {
        "scrolled": true,
        "id": "7a7abad9"
      },
      "outputs": [],
      "source": [
        "loss_function = CrossEntropyLoss(ignore_index = -100, reduction='mean')\n",
        "\n",
        "LEARNING_RATE = 1e-05\n",
        "optimizer = torch.optim.AdamW(params=model.parameters(), lr=LEARNING_RATE)\n",
        "\n",
        "device = 'cuda'\n",
        "\n",
        "def train():\n",
        "    \"\"\"\n",
        "    Train the model for one epoch.\n",
        "    \"\"\"\n",
        "    tr_loss = 0\n",
        "    tr_acc = 0\n",
        "    nb_tr_examples, nb_tr_steps = 0, 0\n",
        "    tr_preds, tr_labels = [], []\n",
        "    # put model in training mode\n",
        "    model.train()\n",
        "\n",
        "    for idx, batch in enumerate(loader):\n",
        "\n",
        "        # Get the encoded data for this batch and push it to the GPU\n",
        "        ids = batch['ids'].squeeze().to(device, dtype = torch.long)\n",
        "        mask = batch['mask'].squeeze().to(device, dtype = torch.long)\n",
        "        targets = batch['targets'].squeeze().to(device, dtype = torch.long)\n",
        "        pred_mask = batch['pred'].squeeze().to(device, dtype = torch.long)\n",
        "\n",
        "        # Run the forward pass of the model\n",
        "        logits = model(input_ids=ids, attn_mask=mask, pred_indicator=pred_mask)\n",
        "        loss = loss_function(logits.transpose(2,1), targets)\n",
        "        tr_loss += loss.item()\n",
        "        # print(\"Batch loss: \", loss.item()) # can comment out if too verbose.\n",
        "\n",
        "        nb_tr_steps += 1\n",
        "        nb_tr_examples += targets.size(0)\n",
        "\n",
        "        # Compute accuracy for this batch\n",
        "        matching = torch.sum(torch.argmax(logits,dim=2) == targets)\n",
        "        predictions = torch.sum(torch.where(targets==-100,0,1))\n",
        "        tr_acc += matching / predictions\n",
        "\n",
        "        if idx % 100==0:\n",
        "            #torch.cuda.empty_cache() # can help if you run into memory issues\n",
        "            curr_avg_loss = tr_loss/nb_tr_steps\n",
        "            print(f\"Current average loss: {curr_avg_loss}\")\n",
        "            print(f\"Current average acc: {tr_acc/nb_tr_steps}\")\n",
        "\n",
        "        # Run the backward pass to update parameters\n",
        "        optimizer.zero_grad()\n",
        "        loss.backward()\n",
        "        optimizer.step()\n",
        "\n",
        "    epoch_loss = tr_loss / nb_tr_steps\n",
        "    print(f\"Training loss epoch: {epoch_loss}\")\n",
        "\n",
        "    epoch_acc = tr_acc / nb_tr_steps\n",
        "    print(f\"Training acc epoch: {epoch_acc}\")"
      ]
    },
    {
      "cell_type": "markdown",
      "id": "890d12b0",
      "metadata": {
        "id": "890d12b0"
      },
      "source": [
        "Now let's train the model for one epoch. This will take a while (up to a few hours)."
      ]
    },
    {
      "cell_type": "code",
      "execution_count": 50,
      "id": "bef88882",
      "metadata": {
        "id": "bef88882",
        "colab": {
          "base_uri": "https://localhost:8080/"
        },
        "outputId": "0b30e53c-3755-47dc-a349-58ee11a22285"
      },
      "outputs": [
        {
          "output_type": "stream",
          "name": "stdout",
          "text": [
            "Current average loss: 4.116844177246094\n",
            "Current average acc: 0.009999999776482582\n",
            "Current average loss: 2.0698951529984426\n",
            "Current average acc: 0.5747616291046143\n",
            "Current average loss: 1.7391503978131422\n",
            "Current average acc: 0.619138240814209\n",
            "Current average loss: 1.5561311126151354\n",
            "Current average acc: 0.6504644155502319\n",
            "Current average loss: 1.4451781316588348\n",
            "Current average acc: 0.6684277057647705\n",
            "Current average loss: 1.350894376189409\n",
            "Current average acc: 0.6851819157600403\n",
            "Current average loss: 1.2788789924884993\n",
            "Current average acc: 0.6983049511909485\n",
            "Current average loss: 1.2214959741659068\n",
            "Current average acc: 0.7087337970733643\n",
            "Current average loss: 1.1694447020540821\n",
            "Current average acc: 0.7190805077552795\n",
            "Current average loss: 1.120889916867183\n",
            "Current average acc: 0.7294884324073792\n",
            "Current average loss: 1.078122091281426\n",
            "Current average acc: 0.7383386492729187\n",
            "Current average loss: 1.036233962367168\n",
            "Current average acc: 0.7476218938827515\n",
            "Current average loss: 0.9993877303441497\n",
            "Current average acc: 0.7557007670402527\n",
            "Current average loss: 0.9665272056964798\n",
            "Current average acc: 0.7630659937858582\n",
            "Current average loss: 0.9363834310607515\n",
            "Current average acc: 0.7695520520210266\n",
            "Current average loss: 0.9101858971954424\n",
            "Current average acc: 0.7752572894096375\n",
            "Current average loss: 0.8859507754808065\n",
            "Current average acc: 0.7804901599884033\n",
            "Current average loss: 0.8627760130156495\n",
            "Current average acc: 0.7853684425354004\n",
            "Current average loss: 0.8403188246842691\n",
            "Current average acc: 0.7903836965560913\n",
            "Current average loss: 0.820207325417327\n",
            "Current average acc: 0.7948925495147705\n",
            "Current average loss: 0.8007494516071232\n",
            "Current average acc: 0.799129843711853\n",
            "Current average loss: 0.7842064446945636\n",
            "Current average acc: 0.8028228282928467\n",
            "Current average loss: 0.7679227922841236\n",
            "Current average acc: 0.8062880635261536\n",
            "Current average loss: 0.7524313806697421\n",
            "Current average acc: 0.8098170161247253\n",
            "Current average loss: 0.7382071926562997\n",
            "Current average acc: 0.8128366470336914\n",
            "Current average loss: 0.7247819690728655\n",
            "Current average acc: 0.8158838748931885\n",
            "Current average loss: 0.7125421688791331\n",
            "Current average acc: 0.8186309337615967\n",
            "Current average loss: 0.6999736740241798\n",
            "Current average acc: 0.8214454650878906\n",
            "Current average loss: 0.6883825428919552\n",
            "Current average acc: 0.8240340352058411\n",
            "Current average loss: 0.6776111704065898\n",
            "Current average acc: 0.8263847827911377\n",
            "Current average loss: 0.6670051497177297\n",
            "Current average acc: 0.8286834359169006\n",
            "Current average loss: 0.6571674320638968\n",
            "Current average acc: 0.8308780789375305\n",
            "Current average loss: 0.6475360522099638\n",
            "Current average acc: 0.8330341577529907\n",
            "Current average loss: 0.6385517225134413\n",
            "Current average acc: 0.8349931836128235\n",
            "Current average loss: 0.6300771411982609\n",
            "Current average acc: 0.8368831872940063\n",
            "Current average loss: 0.6215347323340029\n",
            "Current average acc: 0.8388363718986511\n",
            "Current average loss: 0.6134126801121338\n",
            "Current average acc: 0.8407520651817322\n",
            "Current average loss: 0.6062066867178564\n",
            "Current average acc: 0.8423478603363037\n",
            "Current average loss: 0.5993288162800708\n",
            "Current average acc: 0.8438846468925476\n",
            "Current average loss: 0.5927398315941453\n",
            "Current average acc: 0.8452736139297485\n",
            "Current average loss: 0.5855725087063428\n",
            "Current average acc: 0.8469094038009644\n",
            "Current average loss: 0.5788168082623707\n",
            "Current average acc: 0.8484057188034058\n",
            "Current average loss: 0.5730418048353884\n",
            "Current average acc: 0.84971684217453\n",
            "Current average loss: 0.5674940250351439\n",
            "Current average acc: 0.8508675694465637\n",
            "Current average loss: 0.5617618557303582\n",
            "Current average acc: 0.8521143794059753\n",
            "Current average loss: 0.5564011947078669\n",
            "Current average acc: 0.8533354997634888\n",
            "Current average loss: 0.5511766057627483\n",
            "Current average acc: 0.8545142412185669\n",
            "Current average loss: 0.54558390069264\n",
            "Current average acc: 0.8557734489440918\n",
            "Current average loss: 0.5405144186066205\n",
            "Current average acc: 0.856920063495636\n",
            "Current average loss: 0.5355481992364902\n",
            "Current average acc: 0.8580182194709778\n",
            "Current average loss: 0.5307538096704165\n",
            "Current average acc: 0.8590882420539856\n",
            "Current average loss: 0.5258337240246225\n",
            "Current average acc: 0.8602343201637268\n",
            "Current average loss: 0.5215447823621062\n",
            "Current average acc: 0.8612060546875\n",
            "Current average loss: 0.5174135106199869\n",
            "Current average acc: 0.8621315360069275\n",
            "Current average loss: 0.5133201791840204\n",
            "Current average acc: 0.8629900813102722\n",
            "Current average loss: 0.5092029382661459\n",
            "Current average acc: 0.8639437556266785\n",
            "Current average loss: 0.5051646481143899\n",
            "Current average acc: 0.8648698925971985\n",
            "Current average loss: 0.5012298519282858\n",
            "Current average acc: 0.8657285571098328\n",
            "Current average loss: 0.4973033608981421\n",
            "Current average acc: 0.8666730523109436\n",
            "Current average loss: 0.49363427207320854\n",
            "Current average acc: 0.8674938678741455\n",
            "Current average loss: 0.4900165043573859\n",
            "Current average acc: 0.8683119416236877\n",
            "Current average loss: 0.4868329752372769\n",
            "Current average acc: 0.8690858483314514\n",
            "Current average loss: 0.4835108722064634\n",
            "Current average acc: 0.8698062896728516\n",
            "Current average loss: 0.4799481991171799\n",
            "Current average acc: 0.8706631660461426\n",
            "Current average loss: 0.4770665438512567\n",
            "Current average acc: 0.8713601231575012\n",
            "Current average loss: 0.4739435266630592\n",
            "Current average acc: 0.8720795512199402\n",
            "Current average loss: 0.47092308486669177\n",
            "Current average acc: 0.8727533221244812\n",
            "Current average loss: 0.4677788071893628\n",
            "Current average acc: 0.8734939098358154\n",
            "Current average loss: 0.46454929034795994\n",
            "Current average acc: 0.8742683529853821\n",
            "Current average loss: 0.46157256713459033\n",
            "Current average acc: 0.8749701976776123\n",
            "Current average loss: 0.45871771065260986\n",
            "Current average acc: 0.8756504654884338\n",
            "Current average loss: 0.45583174516597846\n",
            "Current average acc: 0.8763164281845093\n",
            "Current average loss: 0.45298989452375105\n",
            "Current average acc: 0.8769423961639404\n",
            "Current average loss: 0.4505541157592259\n",
            "Current average acc: 0.8775125741958618\n",
            "Current average loss: 0.44803986270743246\n",
            "Current average acc: 0.8781026601791382\n",
            "Current average loss: 0.4456086878581232\n",
            "Current average acc: 0.8786492347717285\n",
            "Current average loss: 0.4431641072097569\n",
            "Current average acc: 0.8792016506195068\n",
            "Current average loss: 0.4408648327232924\n",
            "Current average acc: 0.8797118067741394\n",
            "Current average loss: 0.43829549200629414\n",
            "Current average acc: 0.8802950978279114\n",
            "Current average loss: 0.4359833163992768\n",
            "Current average acc: 0.8808373212814331\n",
            "Current average loss: 0.4337331568944485\n",
            "Current average acc: 0.8813239932060242\n",
            "Current average loss: 0.43124658328826715\n",
            "Current average acc: 0.8819319009780884\n",
            "Current average loss: 0.42920083912272755\n",
            "Current average acc: 0.8824280500411987\n",
            "Current average loss: 0.4271459614813378\n",
            "Current average acc: 0.882905900478363\n",
            "Current average loss: 0.42503955958145256\n",
            "Current average acc: 0.8833733797073364\n",
            "Current average loss: 0.42282720243979194\n",
            "Current average acc: 0.8839130997657776\n",
            "Current average loss: 0.4208069013880167\n",
            "Current average acc: 0.8843459486961365\n",
            "Current average loss: 0.41895089171156363\n",
            "Current average acc: 0.8847821354866028\n",
            "Current average loss: 0.416901212059907\n",
            "Current average acc: 0.8852725028991699\n",
            "Current average loss: 0.41496742747698107\n",
            "Current average acc: 0.8857348561286926\n",
            "Current average loss: 0.4131405902030057\n",
            "Current average acc: 0.8861756324768066\n",
            "Current average loss: 0.41122493812925487\n",
            "Current average acc: 0.8866286873817444\n",
            "Current average loss: 0.40950857116312916\n",
            "Current average acc: 0.8870123624801636\n",
            "Current average loss: 0.40767066076329006\n",
            "Current average acc: 0.8874399662017822\n",
            "Current average loss: 0.4058307126598743\n",
            "Current average acc: 0.887851357460022\n",
            "Current average loss: 0.40420459528233976\n",
            "Current average acc: 0.8882226347923279\n",
            "Current average loss: 0.4024197291654605\n",
            "Current average acc: 0.8886376023292542\n",
            "Current average loss: 0.40092837881942395\n",
            "Current average acc: 0.8889782428741455\n",
            "Current average loss: 0.3993049264417876\n",
            "Current average acc: 0.8893460035324097\n",
            "Training loss epoch: 0.398999441726208\n",
            "Training acc epoch: 0.8894132971763611\n"
          ]
        }
      ],
      "source": [
        "train()"
      ]
    },
    {
      "cell_type": "markdown",
      "id": "f8507d02",
      "metadata": {
        "id": "f8507d02"
      },
      "source": [
        "In my experiments, I found that two epochs are needed for good performance."
      ]
    },
    {
      "cell_type": "code",
      "execution_count": 51,
      "id": "0070c530",
      "metadata": {
        "id": "0070c530",
        "colab": {
          "base_uri": "https://localhost:8080/"
        },
        "outputId": "00c33397-03fd-48e0-b5c2-9e73ad8b5159"
      },
      "outputs": [
        {
          "output_type": "stream",
          "name": "stdout",
          "text": [
            "Current average loss: 0.2403809130191803\n",
            "Current average acc: 0.9498806595802307\n",
            "Current average loss: 0.2083053745255612\n",
            "Current average acc: 0.937161922454834\n",
            "Current average loss: 0.2027938333316822\n",
            "Current average acc: 0.9384860396385193\n",
            "Current average loss: 0.2081889243567505\n",
            "Current average acc: 0.9372535943984985\n",
            "Current average loss: 0.2089016294836106\n",
            "Current average acc: 0.9369316101074219\n",
            "Current average loss: 0.20920122001401917\n",
            "Current average acc: 0.9369043707847595\n",
            "Current average loss: 0.2085605965378677\n",
            "Current average acc: 0.937111496925354\n",
            "Current average loss: 0.20882942818753558\n",
            "Current average acc: 0.9370060563087463\n",
            "Current average loss: 0.20990326611811153\n",
            "Current average acc: 0.9365447759628296\n",
            "Current average loss: 0.20976952025118997\n",
            "Current average acc: 0.936758279800415\n",
            "Current average loss: 0.208813895623048\n",
            "Current average acc: 0.9369994401931763\n",
            "Current average loss: 0.20995212503312177\n",
            "Current average acc: 0.9366626143455505\n",
            "Current average loss: 0.2103275057986118\n",
            "Current average acc: 0.9363932013511658\n",
            "Current average loss: 0.21043802971316702\n",
            "Current average acc: 0.936241090297699\n",
            "Current average loss: 0.21052537257547127\n",
            "Current average acc: 0.9360813498497009\n",
            "Current average loss: 0.2092680972786763\n",
            "Current average acc: 0.936441957950592\n",
            "Current average loss: 0.20916225923589435\n",
            "Current average acc: 0.9363258481025696\n",
            "Current average loss: 0.20892697263471804\n",
            "Current average acc: 0.9364595413208008\n",
            "Current average loss: 0.20920141295078462\n",
            "Current average acc: 0.9363136291503906\n",
            "Current average loss: 0.2085320105436192\n",
            "Current average acc: 0.936530590057373\n",
            "Current average loss: 0.20847604914695428\n",
            "Current average acc: 0.9365310072898865\n",
            "Current average loss: 0.20825567711915985\n",
            "Current average acc: 0.9366960525512695\n",
            "Current average loss: 0.20722304994594992\n",
            "Current average acc: 0.9370048642158508\n",
            "Current average loss: 0.20708574109048183\n",
            "Current average acc: 0.9370774626731873\n",
            "Current average loss: 0.20642922270495362\n",
            "Current average acc: 0.9371882677078247\n",
            "Current average loss: 0.2065519306679122\n",
            "Current average acc: 0.9371493458747864\n",
            "Current average loss: 0.2062166168904795\n",
            "Current average acc: 0.9372467398643494\n",
            "Current average loss: 0.20634743943258774\n",
            "Current average acc: 0.9372979998588562\n",
            "Current average loss: 0.2067976517457168\n",
            "Current average acc: 0.9371201395988464\n",
            "Current average loss: 0.20622352503884747\n",
            "Current average acc: 0.9372455477714539\n",
            "Current average loss: 0.20632180131001102\n",
            "Current average acc: 0.9371726512908936\n",
            "Current average loss: 0.20607535109183397\n",
            "Current average acc: 0.9371885061264038\n",
            "Current average loss: 0.20632987233185462\n",
            "Current average acc: 0.9371356964111328\n",
            "Current average loss: 0.20647684252016546\n",
            "Current average acc: 0.9370476603507996\n",
            "Current average loss: 0.20654932526070313\n",
            "Current average acc: 0.9370314478874207\n",
            "Current average loss: 0.20656430969635645\n",
            "Current average acc: 0.9370251893997192\n",
            "Current average loss: 0.20608633727153883\n",
            "Current average acc: 0.9371419548988342\n",
            "Current average loss: 0.20626012765030158\n",
            "Current average acc: 0.9370408654212952\n",
            "Current average loss: 0.20580046625023327\n",
            "Current average acc: 0.9372055530548096\n",
            "Current average loss: 0.2055406058835039\n",
            "Current average acc: 0.937311589717865\n",
            "Current average loss: 0.2053143707814216\n",
            "Current average acc: 0.9373171329498291\n",
            "Current average loss: 0.20527816200762863\n",
            "Current average acc: 0.9373055100440979\n",
            "Current average loss: 0.20503388761931363\n",
            "Current average acc: 0.937379002571106\n",
            "Current average loss: 0.20486448791204595\n",
            "Current average acc: 0.9373596906661987\n",
            "Current average loss: 0.20506351370465156\n",
            "Current average acc: 0.9372736811637878\n",
            "Current average loss: 0.20484940115907832\n",
            "Current average acc: 0.9373450875282288\n",
            "Current average loss: 0.2046503528816574\n",
            "Current average acc: 0.9373673796653748\n",
            "Current average loss: 0.2042296898302259\n",
            "Current average acc: 0.9374587535858154\n",
            "Current average loss: 0.20417642527428848\n",
            "Current average acc: 0.937425971031189\n",
            "Current average loss: 0.20381616682902667\n",
            "Current average acc: 0.9375148415565491\n",
            "Current average loss: 0.20338187250443707\n",
            "Current average acc: 0.9375707507133484\n",
            "Current average loss: 0.20327144516589968\n",
            "Current average acc: 0.9375789165496826\n",
            "Current average loss: 0.20313976988356816\n",
            "Current average acc: 0.9376309514045715\n",
            "Current average loss: 0.20287680611930756\n",
            "Current average acc: 0.9377239346504211\n",
            "Current average loss: 0.20265049650062236\n",
            "Current average acc: 0.9378017783164978\n",
            "Current average loss: 0.20246473016172317\n",
            "Current average acc: 0.9377927184104919\n",
            "Current average loss: 0.20238965639531603\n",
            "Current average acc: 0.9377992749214172\n",
            "Current average loss: 0.20246508570185065\n",
            "Current average acc: 0.9377042651176453\n",
            "Current average loss: 0.20235405211095933\n",
            "Current average acc: 0.9377465844154358\n",
            "Current average loss: 0.20222328090716712\n",
            "Current average acc: 0.9377461671829224\n",
            "Current average loss: 0.2022246836422831\n",
            "Current average acc: 0.9377562403678894\n",
            "Current average loss: 0.20202963739338028\n",
            "Current average acc: 0.9378291964530945\n",
            "Current average loss: 0.2019104467723816\n",
            "Current average acc: 0.9378559589385986\n",
            "Current average loss: 0.20192069809666854\n",
            "Current average acc: 0.937849223613739\n",
            "Current average loss: 0.2017671278235717\n",
            "Current average acc: 0.9378697872161865\n",
            "Current average loss: 0.20174907148629312\n",
            "Current average acc: 0.9378504753112793\n",
            "Current average loss: 0.2015617415845087\n",
            "Current average acc: 0.9379131197929382\n",
            "Current average loss: 0.2011383760627651\n",
            "Current average acc: 0.9380093216896057\n",
            "Current average loss: 0.20087536661083902\n",
            "Current average acc: 0.9380464553833008\n",
            "Current average loss: 0.20101790723885216\n",
            "Current average acc: 0.9379957318305969\n",
            "Current average loss: 0.20084098291991354\n",
            "Current average acc: 0.9380429983139038\n",
            "Current average loss: 0.20069808329730585\n",
            "Current average acc: 0.9380605816841125\n",
            "Current average loss: 0.2005118092894761\n",
            "Current average acc: 0.9381096363067627\n",
            "Current average loss: 0.20041097587372747\n",
            "Current average acc: 0.9381256103515625\n",
            "Current average loss: 0.2003241953587366\n",
            "Current average acc: 0.9381391406059265\n",
            "Current average loss: 0.19995207244170504\n",
            "Current average acc: 0.9382384419441223\n",
            "Current average loss: 0.19972100198747234\n",
            "Current average acc: 0.9382959008216858\n",
            "Current average loss: 0.1996211324856043\n",
            "Current average acc: 0.9383187890052795\n",
            "Current average loss: 0.19943531602668832\n",
            "Current average acc: 0.9383574724197388\n",
            "Current average loss: 0.19939050110123713\n",
            "Current average acc: 0.9383669495582581\n",
            "Current average loss: 0.19920109141114697\n",
            "Current average acc: 0.9384183883666992\n",
            "Current average loss: 0.19894824575951492\n",
            "Current average acc: 0.9384801983833313\n",
            "Current average loss: 0.19877340037858554\n",
            "Current average acc: 0.9385058879852295\n",
            "Current average loss: 0.19867615358707216\n",
            "Current average acc: 0.938513457775116\n",
            "Current average loss: 0.19857454349901787\n",
            "Current average acc: 0.9385514259338379\n",
            "Current average loss: 0.19838910418369884\n",
            "Current average acc: 0.9386029243469238\n",
            "Current average loss: 0.19834835094160125\n",
            "Current average acc: 0.9386094808578491\n",
            "Current average loss: 0.19814859219850198\n",
            "Current average acc: 0.9386758804321289\n",
            "Current average loss: 0.19792301729854814\n",
            "Current average acc: 0.9387268424034119\n",
            "Current average loss: 0.1978346574923896\n",
            "Current average acc: 0.9387437105178833\n",
            "Current average loss: 0.19760662443590699\n",
            "Current average acc: 0.9387994408607483\n",
            "Current average loss: 0.19743107853780906\n",
            "Current average acc: 0.9388415813446045\n",
            "Current average loss: 0.19732273444444276\n",
            "Current average acc: 0.9388779401779175\n",
            "Current average loss: 0.1972394369854208\n",
            "Current average acc: 0.9388867616653442\n",
            "Current average loss: 0.1972731522278207\n",
            "Current average acc: 0.9388605952262878\n",
            "Current average loss: 0.19723949826051657\n",
            "Current average acc: 0.9388371706008911\n",
            "Current average loss: 0.19721824135532381\n",
            "Current average acc: 0.9388449788093567\n",
            "Current average loss: 0.1970295489142358\n",
            "Current average acc: 0.9389234185218811\n",
            "Current average loss: 0.19697710792523127\n",
            "Current average acc: 0.9389359951019287\n",
            "Training loss epoch: 0.19696109104437884\n",
            "Training acc epoch: 0.938940167427063\n"
          ]
        }
      ],
      "source": [
        "train()"
      ]
    },
    {
      "cell_type": "markdown",
      "id": "4005af14",
      "metadata": {
        "id": "4005af14"
      },
      "source": [
        "I ended up with a training loss of about 0.19 and a training accuracy of 0.94. Specific values may differ.\n",
        "\n",
        "At this point, it's a good idea to save the model (or rather the parameter dictionary) so you can continue evaluating the model without having to retrain."
      ]
    },
    {
      "cell_type": "code",
      "execution_count": 52,
      "id": "542403f2",
      "metadata": {
        "id": "542403f2"
      },
      "outputs": [],
      "source": [
        "torch.save(model.state_dict(), \"srl_model_fulltrain_2epoch_finetune_1e-05.pt\")"
      ]
    },
    {
      "cell_type": "markdown",
      "id": "01dc1647",
      "metadata": {
        "id": "01dc1647"
      },
      "source": [
        "## 4. Decoding"
      ]
    },
    {
      "cell_type": "code",
      "execution_count": 53,
      "id": "44d7b2cc",
      "metadata": {
        "id": "44d7b2cc"
      },
      "outputs": [],
      "source": [
        "# Optional step: If you stopped working after part 3, first load the trained model\n",
        "\n",
        "model = SrlModel().to('cuda')\n",
        "model.load_state_dict(torch.load(\"srl_model_fulltrain_2epoch_finetune_1e-05.pt\"))\n",
        "model = model.to('cuda')"
      ]
    },
    {
      "cell_type": "markdown",
      "id": "44e07781",
      "metadata": {
        "id": "44e07781"
      },
      "source": [
        "**TODO (this is the fun part)**: Now that we have a trained model, let's try labeling an unseen example sentence. Complete the functions decode_output and label_sentence below. decode_output takes the logits returned by the model, extracts the argmax to obtain the label predictions for each token, and then translate the result into a list of string labels.\n",
        "\n",
        "label_sentence takes a list of input tokens and a predicate index, prepares the model input, call the model and then call decode_output to produce a final result.\n",
        "\n",
        "Note that you have already implemented all components necessary (preparing the input data from the token list and predicate index, decoding the model output). But now you are putting it together in one convenient function."
      ]
    },
    {
      "cell_type": "code",
      "execution_count": null,
      "id": "b72fc567",
      "metadata": {
        "id": "b72fc567"
      },
      "outputs": [],
      "source": [
        "tokens = \"A U. N. team spent an hour inside the hospital , where it found evident signs of shelling and gunfire .\".split()"
      ]
    },
    {
      "cell_type": "code",
      "execution_count": null,
      "id": "9026d718",
      "metadata": {
        "id": "9026d718"
      },
      "outputs": [],
      "source": [
        "def decode_output(logits): # it will be useful to have this in a separate function later on\n",
        "    \"\"\"\n",
        "    Given the model output, return a list of string labels for each token.\n",
        "    \"\"\"\n",
        "    pass\n"
      ]
    },
    {
      "cell_type": "code",
      "execution_count": null,
      "id": "76f21f29",
      "metadata": {
        "id": "76f21f29"
      },
      "outputs": [],
      "source": [
        "def label_sentence(tokens, pred_idx):\n",
        "\n",
        "    # complete this function to prepare token_ids, attention mask, predicate mask, then call the model.\n",
        "    # Decode the output to produce a list of labels.\n",
        "    def pad_list(self, wlist):\n",
        "        wlist = ['[CLS]'] + wlist\n",
        "        padding = ['[PAD]'] * (128-len(wlist))\n",
        "        wlist = wlist + padding\n",
        "        wlist[-1] = '[SEP]'\n",
        "        return wlist\n",
        "\n",
        "    def __getitem__(self, k):\n",
        "        words, labels = self.items[k]\n",
        "        words = self.pad_list(words)[:128]\n",
        "        labels = self.pad_list(labels)[:128]\n",
        "\n",
        "        ids = tokenizer.convert_tokens_to_ids(words)\n",
        "        attn_mask = [1 if i != '[PAD]' else 0 for i in words]\n",
        "        targets = [role_to_id[role] if role in role_to_id else role_to_id['O'] for role in labels]\n",
        "        pred = [1 if i == 'B-V' else 0 for i in labels]\n",
        "\n",
        "    model(input_ids=ids, attn_mask=mask, pred_indicator=pred_mask)\n"
      ]
    },
    {
      "cell_type": "code",
      "execution_count": null,
      "id": "98431b63",
      "metadata": {
        "id": "98431b63"
      },
      "outputs": [],
      "source": [
        "# Now you should be able to run\n",
        "\n",
        "label_test = label_sentence(tokens, 13) # Predicate is \"found\"\n",
        "zip(tokens, label_test)"
      ]
    },
    {
      "cell_type": "markdown",
      "id": "1d6c710b",
      "metadata": {
        "id": "1d6c710b"
      },
      "source": [
        "The expected output is somethign like this:\n",
        "```   \n",
        " ('A', 'O'),\n",
        " ('U.', 'O'),\n",
        " ('N.', 'O'),\n",
        " ('team', 'O'),\n",
        " ('spent', 'O'),\n",
        " ('an', 'O'),\n",
        " ('hour', 'O'),\n",
        " ('inside', 'O'),\n",
        " ('the', 'B-ARGM-LOC'),\n",
        " ('hospital', 'I-ARGM-LOC'),\n",
        " (',', 'O'),\n",
        " ('where', 'B-ARGM-LOC'),\n",
        " ('it', 'B-ARG0'),\n",
        " ('found', 'B-V'),\n",
        " ('evident', 'B-ARG1'),\n",
        " ('signs', 'I-ARG1'),\n",
        " ('of', 'I-ARG1'),\n",
        " ('shelling', 'I-ARG1'),\n",
        " ('and', 'I-ARG1'),\n",
        " ('gunfire', 'I-ARG1'),\n",
        " ('.', 'O'),\n",
        "```\n"
      ]
    },
    {
      "cell_type": "markdown",
      "id": "b6c0237e",
      "metadata": {
        "id": "b6c0237e"
      },
      "source": [
        "### 5. Evaluation 1: Token-Based Accuracy\n",
        "We want to evaluate the model on the dev or test set."
      ]
    },
    {
      "cell_type": "code",
      "execution_count": null,
      "id": "cc7aa897",
      "metadata": {
        "id": "cc7aa897"
      },
      "outputs": [],
      "source": [
        "dev_data = SrlData(\"propbank_dev.tsv\") # Takes a while because we preprocess all data offline"
      ]
    },
    {
      "cell_type": "code",
      "execution_count": null,
      "id": "dd62569e",
      "metadata": {
        "id": "dd62569e"
      },
      "outputs": [],
      "source": [
        "from torch.utils.data import DataLoader\n",
        "loader = DataLoader(dev_data, batch_size = 1, shuffle = False)"
      ]
    },
    {
      "cell_type": "code",
      "execution_count": null,
      "id": "4bcb3a78",
      "metadata": {
        "id": "4bcb3a78"
      },
      "outputs": [],
      "source": [
        "# Optional: Load the model again if you stopped working prior to this step.\n",
        "# model = SrlModel()\n",
        "# model.load_state_dict(torch.load(\"srl_model_fulltrain_2epoch_finetune_1e-05.pt\"))\n",
        "# model = mode.to('cuda')"
      ]
    },
    {
      "cell_type": "markdown",
      "id": "cc8ababd",
      "metadata": {
        "id": "cc8ababd"
      },
      "source": [
        "**TODO**: Complete the evaluate_token_accuracy function below. The function should iterate through the items in the data loader (see training loop in part 3). Run the model on each sentence/predicate pair and extract the predictions.\n",
        "\n",
        "For each sentence, count the correct predictions and the total predictions. Finally, compute the accuracy as #correct_predictions / #total_predictions\n",
        "\n",
        "Careful: You need to filter out the padded positions ([PAD] target tokens), as well as [CLS] and [SEP]. It's okay to include [B-V] in the count though."
      ]
    },
    {
      "cell_type": "code",
      "execution_count": null,
      "id": "fa091465",
      "metadata": {
        "id": "fa091465"
      },
      "outputs": [],
      "source": [
        "def evaluate_token_accuracy(model, loader):\n",
        "\n",
        "    model.eval() # put model in evaluation mode\n",
        "\n",
        "    # for the accuracy\n",
        "    total_correct = 0 # number of correct token label predictions.\n",
        "    total_predictions = 0 # number of total predictions = number of tokens in the data.\n",
        "\n",
        "    # iterate over the data here.\n",
        "\n",
        "    acc = total_correct / total_predictions\n",
        "    print(f\"Accuracy: {acc}\")\n"
      ]
    },
    {
      "cell_type": "markdown",
      "id": "9fb27239",
      "metadata": {
        "id": "9fb27239"
      },
      "source": [
        "### 6. Span-Based evaluation\n",
        "\n",
        "While the accuracy score in part 5 is encouraging, an accuracy-based evaluation is problematic for two reasons. First, most of the target labels are actually O. Second, it only tells us that per-token prediction works, but does not directly evaluate the SRL performance.\n",
        "\n",
        "Instead, SRL systems are typically evaluated on micro-averaged precision, recall, and F1-score for predicting labeled spans.\n",
        "\n",
        "More specifically, for each sentence/predicate input, we run the model, decode the output, and extract a set of labeled spans (from the output and the target labels). These spans are (i,j,label) tuples.  \n",
        "\n",
        "We then compute the true_positives, false_positives, and false_negatives based on these spans.\n",
        "\n",
        "In the end, we can compute\n",
        "\n",
        "* Precision:  true_positive / (true_positives + false_positives)  , that is the number of correct spans out of all predicted spans.\n",
        "\n",
        "* Recall: true_positives / (true_positives + false_negatives) , that is the number of correct spans out of all target spans.\n",
        "\n",
        "* F1-score:   (2 * precision * recall) / (precision + recall)\n",
        "\n",
        "\n",
        "For example, consider\n",
        "\n",
        "| |[CLS]|The|judge|scheduled|to|preside|over|his|trial|was|removed|from|the|case|today|.|             \n",
        "|--||---|-----|---------|--|-------|----|---|-----|---|-------|----|---|----|-----|-|             \n",
        "||0|1|2|3|4|5|6|7|8|9|1O|11|12|13|14|15|\n",
        "|target|[CLS]|B-ARG1|I-ARG1|B-V|B-ARG2|I-ARG2|I-ARG2|I-ARG2|I-ARG2|O|O|O|O|O|O|O|\n",
        "|prediction|[CLS]|B-ARG1|I-ARG1|B-V|I-ARG2|I-ARG2|O|O|O|O|O|O|O|O|B-ARGM-TMP|O|\n",
        "\n",
        "The target spans are (1,2,\"ARG1\"), and (4,8,\"ARG2\").\n",
        "\n",
        "The predicted spans would be (1,2,\"ARG1\"), (14,14,\"ARGM-TMP\"). Note that in the prediction, there is no proper ARG2 span because we are missing the B-ARG2 token, so this span should not be created.\n",
        "\n",
        "So for this sentence we woudl get: true_positives: 1 false_positives: 1 false_negatives: 1\n",
        "\n",
        "*TODO*: Complete the function evaluate_spans that performs the span-based evaluation on the given model and data loader. You can use the provided extract_spans function, which returns the spans as a dictionary. For example\n",
        "{(1,2): \"ARG1\", (4,8):\"ARG2\"}"
      ]
    },
    {
      "cell_type": "code",
      "execution_count": null,
      "id": "379cfe6a",
      "metadata": {
        "id": "379cfe6a"
      },
      "outputs": [],
      "source": [
        "def extract_spans(labels):\n",
        "    spans = {} # map (start,end) ids to label\n",
        "    current_span_start = 0\n",
        "    current_span_type = \"\"\n",
        "    inside = False\n",
        "    for i, label in enumerate(labels):\n",
        "        if label.startswith(\"B\"):\n",
        "            if inside:\n",
        "                if current_span_type != \"V\":\n",
        "                    spans[(current_span_start,i)] = current_span_type\n",
        "            current_span_start = i\n",
        "            current_span_type = label[2:]\n",
        "            inside = True\n",
        "        elif inside and label.startswith(\"O\"):\n",
        "            if current_span_type != \"V\":\n",
        "                spans[(current_span_start,i)] = current_span_type\n",
        "            inside = False\n",
        "        elif inside and label.startswith(\"I\") and label[2:] != current_span_type:\n",
        "            if current_span_type != \"V\":\n",
        "                spans[(current_span_start,i)] = current_span_type\n",
        "            inside = False\n",
        "    return spans\n"
      ]
    },
    {
      "cell_type": "code",
      "execution_count": null,
      "id": "1a5486ca",
      "metadata": {
        "id": "1a5486ca"
      },
      "outputs": [],
      "source": [
        "def evaluate_spans(model, loader):\n",
        "\n",
        "\n",
        "    total_tp = 0\n",
        "    total_fp = 0\n",
        "    total_fn = 0\n",
        "\n",
        "    for idx, batch in enumerate(loader):\n",
        "\n",
        "        pass # compelte this\n",
        "\n",
        "\n",
        "    total_p = total_tp / (total_tp + total_fp)\n",
        "    total_r = total_tp / (total_tp + total_fn)\n",
        "    total_f = (2 * total_p *total_r) / (total_p + total_r)\n",
        "\n",
        "    print(f\"Overall P: {total_p}  Overall R: {total_r}  Overall F1: {total_f}\")\n",
        "\n",
        "evaluate(model, loader)"
      ]
    },
    {
      "cell_type": "markdown",
      "id": "c0e35d04",
      "metadata": {
        "id": "c0e35d04"
      },
      "source": [
        "In my evaluation, I got an F score of 0.82  (which slightly below the state-of-the art in 2018)"
      ]
    },
    {
      "cell_type": "markdown",
      "id": "bd94c3a2",
      "metadata": {
        "id": "bd94c3a2"
      },
      "source": [
        "### OPTIONAL:\n",
        "\n",
        "Repeat the span-based evaluation, but print out precision/recall/f1-score for each role separately."
      ]
    }
  ],
  "metadata": {
    "kernelspec": {
      "display_name": "Python 3",
      "name": "python3"
    },
    "language_info": {
      "codemirror_mode": {
        "name": "ipython",
        "version": 3
      },
      "file_extension": ".py",
      "mimetype": "text/x-python",
      "name": "python",
      "nbconvert_exporter": "python",
      "pygments_lexer": "ipython3",
      "version": "3.8.2"
    },
    "colab": {
      "provenance": [],
      "include_colab_link": true
    },
    "widgets": {
      "application/vnd.jupyter.widget-state+json": {
        "0b2bb5285f28438381b8f6d648ea1e5d": {
          "model_module": "@jupyter-widgets/controls",
          "model_name": "HBoxModel",
          "model_module_version": "1.5.0",
          "state": {
            "_dom_classes": [],
            "_model_module": "@jupyter-widgets/controls",
            "_model_module_version": "1.5.0",
            "_model_name": "HBoxModel",
            "_view_count": null,
            "_view_module": "@jupyter-widgets/controls",
            "_view_module_version": "1.5.0",
            "_view_name": "HBoxView",
            "box_style": "",
            "children": [
              "IPY_MODEL_71f11d97989b49bdb5d0aeea35a05d9a",
              "IPY_MODEL_e16924487c05478883d17e81e5ac312e",
              "IPY_MODEL_d1fbc1c822ff467fbc86029669c1dbd9"
            ],
            "layout": "IPY_MODEL_fe34106c3a8944cd8abc44babf6093e1"
          }
        },
        "71f11d97989b49bdb5d0aeea35a05d9a": {
          "model_module": "@jupyter-widgets/controls",
          "model_name": "HTMLModel",
          "model_module_version": "1.5.0",
          "state": {
            "_dom_classes": [],
            "_model_module": "@jupyter-widgets/controls",
            "_model_module_version": "1.5.0",
            "_model_name": "HTMLModel",
            "_view_count": null,
            "_view_module": "@jupyter-widgets/controls",
            "_view_module_version": "1.5.0",
            "_view_name": "HTMLView",
            "description": "",
            "description_tooltip": null,
            "layout": "IPY_MODEL_85fc498bf7a44af081b4bcd5529304ff",
            "placeholder": "​",
            "style": "IPY_MODEL_d6e1495cbb8e49bf9a797e473e9425d1",
            "value": "tokenizer_config.json: 100%"
          }
        },
        "e16924487c05478883d17e81e5ac312e": {
          "model_module": "@jupyter-widgets/controls",
          "model_name": "FloatProgressModel",
          "model_module_version": "1.5.0",
          "state": {
            "_dom_classes": [],
            "_model_module": "@jupyter-widgets/controls",
            "_model_module_version": "1.5.0",
            "_model_name": "FloatProgressModel",
            "_view_count": null,
            "_view_module": "@jupyter-widgets/controls",
            "_view_module_version": "1.5.0",
            "_view_name": "ProgressView",
            "bar_style": "success",
            "description": "",
            "description_tooltip": null,
            "layout": "IPY_MODEL_5def27a51df4409c9014c73a5f2e96ed",
            "max": 48,
            "min": 0,
            "orientation": "horizontal",
            "style": "IPY_MODEL_07267e770a084f4cbf805e343b4d7f7b",
            "value": 48
          }
        },
        "d1fbc1c822ff467fbc86029669c1dbd9": {
          "model_module": "@jupyter-widgets/controls",
          "model_name": "HTMLModel",
          "model_module_version": "1.5.0",
          "state": {
            "_dom_classes": [],
            "_model_module": "@jupyter-widgets/controls",
            "_model_module_version": "1.5.0",
            "_model_name": "HTMLModel",
            "_view_count": null,
            "_view_module": "@jupyter-widgets/controls",
            "_view_module_version": "1.5.0",
            "_view_name": "HTMLView",
            "description": "",
            "description_tooltip": null,
            "layout": "IPY_MODEL_f77d397393b847b1be584c5da61d705f",
            "placeholder": "​",
            "style": "IPY_MODEL_3e420a76e8254e968b0d3c7836294087",
            "value": " 48.0/48.0 [00:00&lt;00:00, 3.07kB/s]"
          }
        },
        "fe34106c3a8944cd8abc44babf6093e1": {
          "model_module": "@jupyter-widgets/base",
          "model_name": "LayoutModel",
          "model_module_version": "1.2.0",
          "state": {
            "_model_module": "@jupyter-widgets/base",
            "_model_module_version": "1.2.0",
            "_model_name": "LayoutModel",
            "_view_count": null,
            "_view_module": "@jupyter-widgets/base",
            "_view_module_version": "1.2.0",
            "_view_name": "LayoutView",
            "align_content": null,
            "align_items": null,
            "align_self": null,
            "border": null,
            "bottom": null,
            "display": null,
            "flex": null,
            "flex_flow": null,
            "grid_area": null,
            "grid_auto_columns": null,
            "grid_auto_flow": null,
            "grid_auto_rows": null,
            "grid_column": null,
            "grid_gap": null,
            "grid_row": null,
            "grid_template_areas": null,
            "grid_template_columns": null,
            "grid_template_rows": null,
            "height": null,
            "justify_content": null,
            "justify_items": null,
            "left": null,
            "margin": null,
            "max_height": null,
            "max_width": null,
            "min_height": null,
            "min_width": null,
            "object_fit": null,
            "object_position": null,
            "order": null,
            "overflow": null,
            "overflow_x": null,
            "overflow_y": null,
            "padding": null,
            "right": null,
            "top": null,
            "visibility": null,
            "width": null
          }
        },
        "85fc498bf7a44af081b4bcd5529304ff": {
          "model_module": "@jupyter-widgets/base",
          "model_name": "LayoutModel",
          "model_module_version": "1.2.0",
          "state": {
            "_model_module": "@jupyter-widgets/base",
            "_model_module_version": "1.2.0",
            "_model_name": "LayoutModel",
            "_view_count": null,
            "_view_module": "@jupyter-widgets/base",
            "_view_module_version": "1.2.0",
            "_view_name": "LayoutView",
            "align_content": null,
            "align_items": null,
            "align_self": null,
            "border": null,
            "bottom": null,
            "display": null,
            "flex": null,
            "flex_flow": null,
            "grid_area": null,
            "grid_auto_columns": null,
            "grid_auto_flow": null,
            "grid_auto_rows": null,
            "grid_column": null,
            "grid_gap": null,
            "grid_row": null,
            "grid_template_areas": null,
            "grid_template_columns": null,
            "grid_template_rows": null,
            "height": null,
            "justify_content": null,
            "justify_items": null,
            "left": null,
            "margin": null,
            "max_height": null,
            "max_width": null,
            "min_height": null,
            "min_width": null,
            "object_fit": null,
            "object_position": null,
            "order": null,
            "overflow": null,
            "overflow_x": null,
            "overflow_y": null,
            "padding": null,
            "right": null,
            "top": null,
            "visibility": null,
            "width": null
          }
        },
        "d6e1495cbb8e49bf9a797e473e9425d1": {
          "model_module": "@jupyter-widgets/controls",
          "model_name": "DescriptionStyleModel",
          "model_module_version": "1.5.0",
          "state": {
            "_model_module": "@jupyter-widgets/controls",
            "_model_module_version": "1.5.0",
            "_model_name": "DescriptionStyleModel",
            "_view_count": null,
            "_view_module": "@jupyter-widgets/base",
            "_view_module_version": "1.2.0",
            "_view_name": "StyleView",
            "description_width": ""
          }
        },
        "5def27a51df4409c9014c73a5f2e96ed": {
          "model_module": "@jupyter-widgets/base",
          "model_name": "LayoutModel",
          "model_module_version": "1.2.0",
          "state": {
            "_model_module": "@jupyter-widgets/base",
            "_model_module_version": "1.2.0",
            "_model_name": "LayoutModel",
            "_view_count": null,
            "_view_module": "@jupyter-widgets/base",
            "_view_module_version": "1.2.0",
            "_view_name": "LayoutView",
            "align_content": null,
            "align_items": null,
            "align_self": null,
            "border": null,
            "bottom": null,
            "display": null,
            "flex": null,
            "flex_flow": null,
            "grid_area": null,
            "grid_auto_columns": null,
            "grid_auto_flow": null,
            "grid_auto_rows": null,
            "grid_column": null,
            "grid_gap": null,
            "grid_row": null,
            "grid_template_areas": null,
            "grid_template_columns": null,
            "grid_template_rows": null,
            "height": null,
            "justify_content": null,
            "justify_items": null,
            "left": null,
            "margin": null,
            "max_height": null,
            "max_width": null,
            "min_height": null,
            "min_width": null,
            "object_fit": null,
            "object_position": null,
            "order": null,
            "overflow": null,
            "overflow_x": null,
            "overflow_y": null,
            "padding": null,
            "right": null,
            "top": null,
            "visibility": null,
            "width": null
          }
        },
        "07267e770a084f4cbf805e343b4d7f7b": {
          "model_module": "@jupyter-widgets/controls",
          "model_name": "ProgressStyleModel",
          "model_module_version": "1.5.0",
          "state": {
            "_model_module": "@jupyter-widgets/controls",
            "_model_module_version": "1.5.0",
            "_model_name": "ProgressStyleModel",
            "_view_count": null,
            "_view_module": "@jupyter-widgets/base",
            "_view_module_version": "1.2.0",
            "_view_name": "StyleView",
            "bar_color": null,
            "description_width": ""
          }
        },
        "f77d397393b847b1be584c5da61d705f": {
          "model_module": "@jupyter-widgets/base",
          "model_name": "LayoutModel",
          "model_module_version": "1.2.0",
          "state": {
            "_model_module": "@jupyter-widgets/base",
            "_model_module_version": "1.2.0",
            "_model_name": "LayoutModel",
            "_view_count": null,
            "_view_module": "@jupyter-widgets/base",
            "_view_module_version": "1.2.0",
            "_view_name": "LayoutView",
            "align_content": null,
            "align_items": null,
            "align_self": null,
            "border": null,
            "bottom": null,
            "display": null,
            "flex": null,
            "flex_flow": null,
            "grid_area": null,
            "grid_auto_columns": null,
            "grid_auto_flow": null,
            "grid_auto_rows": null,
            "grid_column": null,
            "grid_gap": null,
            "grid_row": null,
            "grid_template_areas": null,
            "grid_template_columns": null,
            "grid_template_rows": null,
            "height": null,
            "justify_content": null,
            "justify_items": null,
            "left": null,
            "margin": null,
            "max_height": null,
            "max_width": null,
            "min_height": null,
            "min_width": null,
            "object_fit": null,
            "object_position": null,
            "order": null,
            "overflow": null,
            "overflow_x": null,
            "overflow_y": null,
            "padding": null,
            "right": null,
            "top": null,
            "visibility": null,
            "width": null
          }
        },
        "3e420a76e8254e968b0d3c7836294087": {
          "model_module": "@jupyter-widgets/controls",
          "model_name": "DescriptionStyleModel",
          "model_module_version": "1.5.0",
          "state": {
            "_model_module": "@jupyter-widgets/controls",
            "_model_module_version": "1.5.0",
            "_model_name": "DescriptionStyleModel",
            "_view_count": null,
            "_view_module": "@jupyter-widgets/base",
            "_view_module_version": "1.2.0",
            "_view_name": "StyleView",
            "description_width": ""
          }
        },
        "dc7daef6aa8244f4af0dd8e49dc62ecc": {
          "model_module": "@jupyter-widgets/controls",
          "model_name": "HBoxModel",
          "model_module_version": "1.5.0",
          "state": {
            "_dom_classes": [],
            "_model_module": "@jupyter-widgets/controls",
            "_model_module_version": "1.5.0",
            "_model_name": "HBoxModel",
            "_view_count": null,
            "_view_module": "@jupyter-widgets/controls",
            "_view_module_version": "1.5.0",
            "_view_name": "HBoxView",
            "box_style": "",
            "children": [
              "IPY_MODEL_586fc2d452154581940fde916ae19453",
              "IPY_MODEL_a51fb621743a4408b50bae460660a58f",
              "IPY_MODEL_bb525ba32b5c41919b237be23c489a8a"
            ],
            "layout": "IPY_MODEL_c1d5e1dba01f4fbfa1fc90a8d0364051"
          }
        },
        "586fc2d452154581940fde916ae19453": {
          "model_module": "@jupyter-widgets/controls",
          "model_name": "HTMLModel",
          "model_module_version": "1.5.0",
          "state": {
            "_dom_classes": [],
            "_model_module": "@jupyter-widgets/controls",
            "_model_module_version": "1.5.0",
            "_model_name": "HTMLModel",
            "_view_count": null,
            "_view_module": "@jupyter-widgets/controls",
            "_view_module_version": "1.5.0",
            "_view_name": "HTMLView",
            "description": "",
            "description_tooltip": null,
            "layout": "IPY_MODEL_7bb76406004e4949baa47f12a5798424",
            "placeholder": "​",
            "style": "IPY_MODEL_2e7b67985f074d6197b40f40020e7be0",
            "value": "vocab.txt: 100%"
          }
        },
        "a51fb621743a4408b50bae460660a58f": {
          "model_module": "@jupyter-widgets/controls",
          "model_name": "FloatProgressModel",
          "model_module_version": "1.5.0",
          "state": {
            "_dom_classes": [],
            "_model_module": "@jupyter-widgets/controls",
            "_model_module_version": "1.5.0",
            "_model_name": "FloatProgressModel",
            "_view_count": null,
            "_view_module": "@jupyter-widgets/controls",
            "_view_module_version": "1.5.0",
            "_view_name": "ProgressView",
            "bar_style": "success",
            "description": "",
            "description_tooltip": null,
            "layout": "IPY_MODEL_d9c0447e42b149cc88d8268c08fa5378",
            "max": 231508,
            "min": 0,
            "orientation": "horizontal",
            "style": "IPY_MODEL_913d02b224d142589783f61ad4550048",
            "value": 231508
          }
        },
        "bb525ba32b5c41919b237be23c489a8a": {
          "model_module": "@jupyter-widgets/controls",
          "model_name": "HTMLModel",
          "model_module_version": "1.5.0",
          "state": {
            "_dom_classes": [],
            "_model_module": "@jupyter-widgets/controls",
            "_model_module_version": "1.5.0",
            "_model_name": "HTMLModel",
            "_view_count": null,
            "_view_module": "@jupyter-widgets/controls",
            "_view_module_version": "1.5.0",
            "_view_name": "HTMLView",
            "description": "",
            "description_tooltip": null,
            "layout": "IPY_MODEL_e0bd874cb47e47a1b3e6a8eefe373d07",
            "placeholder": "​",
            "style": "IPY_MODEL_746ecaf03cc1412fafc89e96ee5ef9d7",
            "value": " 232k/232k [00:00&lt;00:00, 15.2MB/s]"
          }
        },
        "c1d5e1dba01f4fbfa1fc90a8d0364051": {
          "model_module": "@jupyter-widgets/base",
          "model_name": "LayoutModel",
          "model_module_version": "1.2.0",
          "state": {
            "_model_module": "@jupyter-widgets/base",
            "_model_module_version": "1.2.0",
            "_model_name": "LayoutModel",
            "_view_count": null,
            "_view_module": "@jupyter-widgets/base",
            "_view_module_version": "1.2.0",
            "_view_name": "LayoutView",
            "align_content": null,
            "align_items": null,
            "align_self": null,
            "border": null,
            "bottom": null,
            "display": null,
            "flex": null,
            "flex_flow": null,
            "grid_area": null,
            "grid_auto_columns": null,
            "grid_auto_flow": null,
            "grid_auto_rows": null,
            "grid_column": null,
            "grid_gap": null,
            "grid_row": null,
            "grid_template_areas": null,
            "grid_template_columns": null,
            "grid_template_rows": null,
            "height": null,
            "justify_content": null,
            "justify_items": null,
            "left": null,
            "margin": null,
            "max_height": null,
            "max_width": null,
            "min_height": null,
            "min_width": null,
            "object_fit": null,
            "object_position": null,
            "order": null,
            "overflow": null,
            "overflow_x": null,
            "overflow_y": null,
            "padding": null,
            "right": null,
            "top": null,
            "visibility": null,
            "width": null
          }
        },
        "7bb76406004e4949baa47f12a5798424": {
          "model_module": "@jupyter-widgets/base",
          "model_name": "LayoutModel",
          "model_module_version": "1.2.0",
          "state": {
            "_model_module": "@jupyter-widgets/base",
            "_model_module_version": "1.2.0",
            "_model_name": "LayoutModel",
            "_view_count": null,
            "_view_module": "@jupyter-widgets/base",
            "_view_module_version": "1.2.0",
            "_view_name": "LayoutView",
            "align_content": null,
            "align_items": null,
            "align_self": null,
            "border": null,
            "bottom": null,
            "display": null,
            "flex": null,
            "flex_flow": null,
            "grid_area": null,
            "grid_auto_columns": null,
            "grid_auto_flow": null,
            "grid_auto_rows": null,
            "grid_column": null,
            "grid_gap": null,
            "grid_row": null,
            "grid_template_areas": null,
            "grid_template_columns": null,
            "grid_template_rows": null,
            "height": null,
            "justify_content": null,
            "justify_items": null,
            "left": null,
            "margin": null,
            "max_height": null,
            "max_width": null,
            "min_height": null,
            "min_width": null,
            "object_fit": null,
            "object_position": null,
            "order": null,
            "overflow": null,
            "overflow_x": null,
            "overflow_y": null,
            "padding": null,
            "right": null,
            "top": null,
            "visibility": null,
            "width": null
          }
        },
        "2e7b67985f074d6197b40f40020e7be0": {
          "model_module": "@jupyter-widgets/controls",
          "model_name": "DescriptionStyleModel",
          "model_module_version": "1.5.0",
          "state": {
            "_model_module": "@jupyter-widgets/controls",
            "_model_module_version": "1.5.0",
            "_model_name": "DescriptionStyleModel",
            "_view_count": null,
            "_view_module": "@jupyter-widgets/base",
            "_view_module_version": "1.2.0",
            "_view_name": "StyleView",
            "description_width": ""
          }
        },
        "d9c0447e42b149cc88d8268c08fa5378": {
          "model_module": "@jupyter-widgets/base",
          "model_name": "LayoutModel",
          "model_module_version": "1.2.0",
          "state": {
            "_model_module": "@jupyter-widgets/base",
            "_model_module_version": "1.2.0",
            "_model_name": "LayoutModel",
            "_view_count": null,
            "_view_module": "@jupyter-widgets/base",
            "_view_module_version": "1.2.0",
            "_view_name": "LayoutView",
            "align_content": null,
            "align_items": null,
            "align_self": null,
            "border": null,
            "bottom": null,
            "display": null,
            "flex": null,
            "flex_flow": null,
            "grid_area": null,
            "grid_auto_columns": null,
            "grid_auto_flow": null,
            "grid_auto_rows": null,
            "grid_column": null,
            "grid_gap": null,
            "grid_row": null,
            "grid_template_areas": null,
            "grid_template_columns": null,
            "grid_template_rows": null,
            "height": null,
            "justify_content": null,
            "justify_items": null,
            "left": null,
            "margin": null,
            "max_height": null,
            "max_width": null,
            "min_height": null,
            "min_width": null,
            "object_fit": null,
            "object_position": null,
            "order": null,
            "overflow": null,
            "overflow_x": null,
            "overflow_y": null,
            "padding": null,
            "right": null,
            "top": null,
            "visibility": null,
            "width": null
          }
        },
        "913d02b224d142589783f61ad4550048": {
          "model_module": "@jupyter-widgets/controls",
          "model_name": "ProgressStyleModel",
          "model_module_version": "1.5.0",
          "state": {
            "_model_module": "@jupyter-widgets/controls",
            "_model_module_version": "1.5.0",
            "_model_name": "ProgressStyleModel",
            "_view_count": null,
            "_view_module": "@jupyter-widgets/base",
            "_view_module_version": "1.2.0",
            "_view_name": "StyleView",
            "bar_color": null,
            "description_width": ""
          }
        },
        "e0bd874cb47e47a1b3e6a8eefe373d07": {
          "model_module": "@jupyter-widgets/base",
          "model_name": "LayoutModel",
          "model_module_version": "1.2.0",
          "state": {
            "_model_module": "@jupyter-widgets/base",
            "_model_module_version": "1.2.0",
            "_model_name": "LayoutModel",
            "_view_count": null,
            "_view_module": "@jupyter-widgets/base",
            "_view_module_version": "1.2.0",
            "_view_name": "LayoutView",
            "align_content": null,
            "align_items": null,
            "align_self": null,
            "border": null,
            "bottom": null,
            "display": null,
            "flex": null,
            "flex_flow": null,
            "grid_area": null,
            "grid_auto_columns": null,
            "grid_auto_flow": null,
            "grid_auto_rows": null,
            "grid_column": null,
            "grid_gap": null,
            "grid_row": null,
            "grid_template_areas": null,
            "grid_template_columns": null,
            "grid_template_rows": null,
            "height": null,
            "justify_content": null,
            "justify_items": null,
            "left": null,
            "margin": null,
            "max_height": null,
            "max_width": null,
            "min_height": null,
            "min_width": null,
            "object_fit": null,
            "object_position": null,
            "order": null,
            "overflow": null,
            "overflow_x": null,
            "overflow_y": null,
            "padding": null,
            "right": null,
            "top": null,
            "visibility": null,
            "width": null
          }
        },
        "746ecaf03cc1412fafc89e96ee5ef9d7": {
          "model_module": "@jupyter-widgets/controls",
          "model_name": "DescriptionStyleModel",
          "model_module_version": "1.5.0",
          "state": {
            "_model_module": "@jupyter-widgets/controls",
            "_model_module_version": "1.5.0",
            "_model_name": "DescriptionStyleModel",
            "_view_count": null,
            "_view_module": "@jupyter-widgets/base",
            "_view_module_version": "1.2.0",
            "_view_name": "StyleView",
            "description_width": ""
          }
        },
        "890b156ca0ee447487b78b03cc7929d5": {
          "model_module": "@jupyter-widgets/controls",
          "model_name": "HBoxModel",
          "model_module_version": "1.5.0",
          "state": {
            "_dom_classes": [],
            "_model_module": "@jupyter-widgets/controls",
            "_model_module_version": "1.5.0",
            "_model_name": "HBoxModel",
            "_view_count": null,
            "_view_module": "@jupyter-widgets/controls",
            "_view_module_version": "1.5.0",
            "_view_name": "HBoxView",
            "box_style": "",
            "children": [
              "IPY_MODEL_2c6a48f179854cfe8b5fe2a261b3aabe",
              "IPY_MODEL_c14c3fd1de5942299965973a36f2a091",
              "IPY_MODEL_e840c93f40054a4583e3a46ba031e684"
            ],
            "layout": "IPY_MODEL_76f0b88dcf034c7a90424f36a276ed82"
          }
        },
        "2c6a48f179854cfe8b5fe2a261b3aabe": {
          "model_module": "@jupyter-widgets/controls",
          "model_name": "HTMLModel",
          "model_module_version": "1.5.0",
          "state": {
            "_dom_classes": [],
            "_model_module": "@jupyter-widgets/controls",
            "_model_module_version": "1.5.0",
            "_model_name": "HTMLModel",
            "_view_count": null,
            "_view_module": "@jupyter-widgets/controls",
            "_view_module_version": "1.5.0",
            "_view_name": "HTMLView",
            "description": "",
            "description_tooltip": null,
            "layout": "IPY_MODEL_76eff31ae6864b1ea898c89e200e0d65",
            "placeholder": "​",
            "style": "IPY_MODEL_2c7d376e5ab146368a3a7e91250b75b1",
            "value": "tokenizer.json: 100%"
          }
        },
        "c14c3fd1de5942299965973a36f2a091": {
          "model_module": "@jupyter-widgets/controls",
          "model_name": "FloatProgressModel",
          "model_module_version": "1.5.0",
          "state": {
            "_dom_classes": [],
            "_model_module": "@jupyter-widgets/controls",
            "_model_module_version": "1.5.0",
            "_model_name": "FloatProgressModel",
            "_view_count": null,
            "_view_module": "@jupyter-widgets/controls",
            "_view_module_version": "1.5.0",
            "_view_name": "ProgressView",
            "bar_style": "success",
            "description": "",
            "description_tooltip": null,
            "layout": "IPY_MODEL_bd069765ffbf44688ba1160ebe8b91b5",
            "max": 466062,
            "min": 0,
            "orientation": "horizontal",
            "style": "IPY_MODEL_986ff15e981a43cba366a24727eb1bc8",
            "value": 466062
          }
        },
        "e840c93f40054a4583e3a46ba031e684": {
          "model_module": "@jupyter-widgets/controls",
          "model_name": "HTMLModel",
          "model_module_version": "1.5.0",
          "state": {
            "_dom_classes": [],
            "_model_module": "@jupyter-widgets/controls",
            "_model_module_version": "1.5.0",
            "_model_name": "HTMLModel",
            "_view_count": null,
            "_view_module": "@jupyter-widgets/controls",
            "_view_module_version": "1.5.0",
            "_view_name": "HTMLView",
            "description": "",
            "description_tooltip": null,
            "layout": "IPY_MODEL_406acc2b4ab04d8bac6262f0438656e1",
            "placeholder": "​",
            "style": "IPY_MODEL_c8dedee3505c4484a14729229e606c6e",
            "value": " 466k/466k [00:00&lt;00:00, 1.82MB/s]"
          }
        },
        "76f0b88dcf034c7a90424f36a276ed82": {
          "model_module": "@jupyter-widgets/base",
          "model_name": "LayoutModel",
          "model_module_version": "1.2.0",
          "state": {
            "_model_module": "@jupyter-widgets/base",
            "_model_module_version": "1.2.0",
            "_model_name": "LayoutModel",
            "_view_count": null,
            "_view_module": "@jupyter-widgets/base",
            "_view_module_version": "1.2.0",
            "_view_name": "LayoutView",
            "align_content": null,
            "align_items": null,
            "align_self": null,
            "border": null,
            "bottom": null,
            "display": null,
            "flex": null,
            "flex_flow": null,
            "grid_area": null,
            "grid_auto_columns": null,
            "grid_auto_flow": null,
            "grid_auto_rows": null,
            "grid_column": null,
            "grid_gap": null,
            "grid_row": null,
            "grid_template_areas": null,
            "grid_template_columns": null,
            "grid_template_rows": null,
            "height": null,
            "justify_content": null,
            "justify_items": null,
            "left": null,
            "margin": null,
            "max_height": null,
            "max_width": null,
            "min_height": null,
            "min_width": null,
            "object_fit": null,
            "object_position": null,
            "order": null,
            "overflow": null,
            "overflow_x": null,
            "overflow_y": null,
            "padding": null,
            "right": null,
            "top": null,
            "visibility": null,
            "width": null
          }
        },
        "76eff31ae6864b1ea898c89e200e0d65": {
          "model_module": "@jupyter-widgets/base",
          "model_name": "LayoutModel",
          "model_module_version": "1.2.0",
          "state": {
            "_model_module": "@jupyter-widgets/base",
            "_model_module_version": "1.2.0",
            "_model_name": "LayoutModel",
            "_view_count": null,
            "_view_module": "@jupyter-widgets/base",
            "_view_module_version": "1.2.0",
            "_view_name": "LayoutView",
            "align_content": null,
            "align_items": null,
            "align_self": null,
            "border": null,
            "bottom": null,
            "display": null,
            "flex": null,
            "flex_flow": null,
            "grid_area": null,
            "grid_auto_columns": null,
            "grid_auto_flow": null,
            "grid_auto_rows": null,
            "grid_column": null,
            "grid_gap": null,
            "grid_row": null,
            "grid_template_areas": null,
            "grid_template_columns": null,
            "grid_template_rows": null,
            "height": null,
            "justify_content": null,
            "justify_items": null,
            "left": null,
            "margin": null,
            "max_height": null,
            "max_width": null,
            "min_height": null,
            "min_width": null,
            "object_fit": null,
            "object_position": null,
            "order": null,
            "overflow": null,
            "overflow_x": null,
            "overflow_y": null,
            "padding": null,
            "right": null,
            "top": null,
            "visibility": null,
            "width": null
          }
        },
        "2c7d376e5ab146368a3a7e91250b75b1": {
          "model_module": "@jupyter-widgets/controls",
          "model_name": "DescriptionStyleModel",
          "model_module_version": "1.5.0",
          "state": {
            "_model_module": "@jupyter-widgets/controls",
            "_model_module_version": "1.5.0",
            "_model_name": "DescriptionStyleModel",
            "_view_count": null,
            "_view_module": "@jupyter-widgets/base",
            "_view_module_version": "1.2.0",
            "_view_name": "StyleView",
            "description_width": ""
          }
        },
        "bd069765ffbf44688ba1160ebe8b91b5": {
          "model_module": "@jupyter-widgets/base",
          "model_name": "LayoutModel",
          "model_module_version": "1.2.0",
          "state": {
            "_model_module": "@jupyter-widgets/base",
            "_model_module_version": "1.2.0",
            "_model_name": "LayoutModel",
            "_view_count": null,
            "_view_module": "@jupyter-widgets/base",
            "_view_module_version": "1.2.0",
            "_view_name": "LayoutView",
            "align_content": null,
            "align_items": null,
            "align_self": null,
            "border": null,
            "bottom": null,
            "display": null,
            "flex": null,
            "flex_flow": null,
            "grid_area": null,
            "grid_auto_columns": null,
            "grid_auto_flow": null,
            "grid_auto_rows": null,
            "grid_column": null,
            "grid_gap": null,
            "grid_row": null,
            "grid_template_areas": null,
            "grid_template_columns": null,
            "grid_template_rows": null,
            "height": null,
            "justify_content": null,
            "justify_items": null,
            "left": null,
            "margin": null,
            "max_height": null,
            "max_width": null,
            "min_height": null,
            "min_width": null,
            "object_fit": null,
            "object_position": null,
            "order": null,
            "overflow": null,
            "overflow_x": null,
            "overflow_y": null,
            "padding": null,
            "right": null,
            "top": null,
            "visibility": null,
            "width": null
          }
        },
        "986ff15e981a43cba366a24727eb1bc8": {
          "model_module": "@jupyter-widgets/controls",
          "model_name": "ProgressStyleModel",
          "model_module_version": "1.5.0",
          "state": {
            "_model_module": "@jupyter-widgets/controls",
            "_model_module_version": "1.5.0",
            "_model_name": "ProgressStyleModel",
            "_view_count": null,
            "_view_module": "@jupyter-widgets/base",
            "_view_module_version": "1.2.0",
            "_view_name": "StyleView",
            "bar_color": null,
            "description_width": ""
          }
        },
        "406acc2b4ab04d8bac6262f0438656e1": {
          "model_module": "@jupyter-widgets/base",
          "model_name": "LayoutModel",
          "model_module_version": "1.2.0",
          "state": {
            "_model_module": "@jupyter-widgets/base",
            "_model_module_version": "1.2.0",
            "_model_name": "LayoutModel",
            "_view_count": null,
            "_view_module": "@jupyter-widgets/base",
            "_view_module_version": "1.2.0",
            "_view_name": "LayoutView",
            "align_content": null,
            "align_items": null,
            "align_self": null,
            "border": null,
            "bottom": null,
            "display": null,
            "flex": null,
            "flex_flow": null,
            "grid_area": null,
            "grid_auto_columns": null,
            "grid_auto_flow": null,
            "grid_auto_rows": null,
            "grid_column": null,
            "grid_gap": null,
            "grid_row": null,
            "grid_template_areas": null,
            "grid_template_columns": null,
            "grid_template_rows": null,
            "height": null,
            "justify_content": null,
            "justify_items": null,
            "left": null,
            "margin": null,
            "max_height": null,
            "max_width": null,
            "min_height": null,
            "min_width": null,
            "object_fit": null,
            "object_position": null,
            "order": null,
            "overflow": null,
            "overflow_x": null,
            "overflow_y": null,
            "padding": null,
            "right": null,
            "top": null,
            "visibility": null,
            "width": null
          }
        },
        "c8dedee3505c4484a14729229e606c6e": {
          "model_module": "@jupyter-widgets/controls",
          "model_name": "DescriptionStyleModel",
          "model_module_version": "1.5.0",
          "state": {
            "_model_module": "@jupyter-widgets/controls",
            "_model_module_version": "1.5.0",
            "_model_name": "DescriptionStyleModel",
            "_view_count": null,
            "_view_module": "@jupyter-widgets/base",
            "_view_module_version": "1.2.0",
            "_view_name": "StyleView",
            "description_width": ""
          }
        },
        "bd51f26573da4b1d9a6d5bc7024c13f8": {
          "model_module": "@jupyter-widgets/controls",
          "model_name": "HBoxModel",
          "model_module_version": "1.5.0",
          "state": {
            "_dom_classes": [],
            "_model_module": "@jupyter-widgets/controls",
            "_model_module_version": "1.5.0",
            "_model_name": "HBoxModel",
            "_view_count": null,
            "_view_module": "@jupyter-widgets/controls",
            "_view_module_version": "1.5.0",
            "_view_name": "HBoxView",
            "box_style": "",
            "children": [
              "IPY_MODEL_8a6bea097f9a4a6d92819501f602bf82",
              "IPY_MODEL_5e2fe5d1f23b45f888b74b274ae587e1",
              "IPY_MODEL_05d491f31eb44202b62c477bc32171a7"
            ],
            "layout": "IPY_MODEL_a097da49d9cb4c0588934ea430c5cc12"
          }
        },
        "8a6bea097f9a4a6d92819501f602bf82": {
          "model_module": "@jupyter-widgets/controls",
          "model_name": "HTMLModel",
          "model_module_version": "1.5.0",
          "state": {
            "_dom_classes": [],
            "_model_module": "@jupyter-widgets/controls",
            "_model_module_version": "1.5.0",
            "_model_name": "HTMLModel",
            "_view_count": null,
            "_view_module": "@jupyter-widgets/controls",
            "_view_module_version": "1.5.0",
            "_view_name": "HTMLView",
            "description": "",
            "description_tooltip": null,
            "layout": "IPY_MODEL_9f975e05b35146bea45ddce8d44e0b08",
            "placeholder": "​",
            "style": "IPY_MODEL_102fb0d101f64f039319b7e91893241b",
            "value": "config.json: 100%"
          }
        },
        "5e2fe5d1f23b45f888b74b274ae587e1": {
          "model_module": "@jupyter-widgets/controls",
          "model_name": "FloatProgressModel",
          "model_module_version": "1.5.0",
          "state": {
            "_dom_classes": [],
            "_model_module": "@jupyter-widgets/controls",
            "_model_module_version": "1.5.0",
            "_model_name": "FloatProgressModel",
            "_view_count": null,
            "_view_module": "@jupyter-widgets/controls",
            "_view_module_version": "1.5.0",
            "_view_name": "ProgressView",
            "bar_style": "success",
            "description": "",
            "description_tooltip": null,
            "layout": "IPY_MODEL_f15255d2a3eb48e4b5b71d2682916e5c",
            "max": 570,
            "min": 0,
            "orientation": "horizontal",
            "style": "IPY_MODEL_042dc721da9e40a3b139f44892a112fe",
            "value": 570
          }
        },
        "05d491f31eb44202b62c477bc32171a7": {
          "model_module": "@jupyter-widgets/controls",
          "model_name": "HTMLModel",
          "model_module_version": "1.5.0",
          "state": {
            "_dom_classes": [],
            "_model_module": "@jupyter-widgets/controls",
            "_model_module_version": "1.5.0",
            "_model_name": "HTMLModel",
            "_view_count": null,
            "_view_module": "@jupyter-widgets/controls",
            "_view_module_version": "1.5.0",
            "_view_name": "HTMLView",
            "description": "",
            "description_tooltip": null,
            "layout": "IPY_MODEL_de24eef6e17c408c849bcebc5d3e5e67",
            "placeholder": "​",
            "style": "IPY_MODEL_515e5f80ec8a4f6495efebdc4b0a36e8",
            "value": " 570/570 [00:00&lt;00:00, 39.7kB/s]"
          }
        },
        "a097da49d9cb4c0588934ea430c5cc12": {
          "model_module": "@jupyter-widgets/base",
          "model_name": "LayoutModel",
          "model_module_version": "1.2.0",
          "state": {
            "_model_module": "@jupyter-widgets/base",
            "_model_module_version": "1.2.0",
            "_model_name": "LayoutModel",
            "_view_count": null,
            "_view_module": "@jupyter-widgets/base",
            "_view_module_version": "1.2.0",
            "_view_name": "LayoutView",
            "align_content": null,
            "align_items": null,
            "align_self": null,
            "border": null,
            "bottom": null,
            "display": null,
            "flex": null,
            "flex_flow": null,
            "grid_area": null,
            "grid_auto_columns": null,
            "grid_auto_flow": null,
            "grid_auto_rows": null,
            "grid_column": null,
            "grid_gap": null,
            "grid_row": null,
            "grid_template_areas": null,
            "grid_template_columns": null,
            "grid_template_rows": null,
            "height": null,
            "justify_content": null,
            "justify_items": null,
            "left": null,
            "margin": null,
            "max_height": null,
            "max_width": null,
            "min_height": null,
            "min_width": null,
            "object_fit": null,
            "object_position": null,
            "order": null,
            "overflow": null,
            "overflow_x": null,
            "overflow_y": null,
            "padding": null,
            "right": null,
            "top": null,
            "visibility": null,
            "width": null
          }
        },
        "9f975e05b35146bea45ddce8d44e0b08": {
          "model_module": "@jupyter-widgets/base",
          "model_name": "LayoutModel",
          "model_module_version": "1.2.0",
          "state": {
            "_model_module": "@jupyter-widgets/base",
            "_model_module_version": "1.2.0",
            "_model_name": "LayoutModel",
            "_view_count": null,
            "_view_module": "@jupyter-widgets/base",
            "_view_module_version": "1.2.0",
            "_view_name": "LayoutView",
            "align_content": null,
            "align_items": null,
            "align_self": null,
            "border": null,
            "bottom": null,
            "display": null,
            "flex": null,
            "flex_flow": null,
            "grid_area": null,
            "grid_auto_columns": null,
            "grid_auto_flow": null,
            "grid_auto_rows": null,
            "grid_column": null,
            "grid_gap": null,
            "grid_row": null,
            "grid_template_areas": null,
            "grid_template_columns": null,
            "grid_template_rows": null,
            "height": null,
            "justify_content": null,
            "justify_items": null,
            "left": null,
            "margin": null,
            "max_height": null,
            "max_width": null,
            "min_height": null,
            "min_width": null,
            "object_fit": null,
            "object_position": null,
            "order": null,
            "overflow": null,
            "overflow_x": null,
            "overflow_y": null,
            "padding": null,
            "right": null,
            "top": null,
            "visibility": null,
            "width": null
          }
        },
        "102fb0d101f64f039319b7e91893241b": {
          "model_module": "@jupyter-widgets/controls",
          "model_name": "DescriptionStyleModel",
          "model_module_version": "1.5.0",
          "state": {
            "_model_module": "@jupyter-widgets/controls",
            "_model_module_version": "1.5.0",
            "_model_name": "DescriptionStyleModel",
            "_view_count": null,
            "_view_module": "@jupyter-widgets/base",
            "_view_module_version": "1.2.0",
            "_view_name": "StyleView",
            "description_width": ""
          }
        },
        "f15255d2a3eb48e4b5b71d2682916e5c": {
          "model_module": "@jupyter-widgets/base",
          "model_name": "LayoutModel",
          "model_module_version": "1.2.0",
          "state": {
            "_model_module": "@jupyter-widgets/base",
            "_model_module_version": "1.2.0",
            "_model_name": "LayoutModel",
            "_view_count": null,
            "_view_module": "@jupyter-widgets/base",
            "_view_module_version": "1.2.0",
            "_view_name": "LayoutView",
            "align_content": null,
            "align_items": null,
            "align_self": null,
            "border": null,
            "bottom": null,
            "display": null,
            "flex": null,
            "flex_flow": null,
            "grid_area": null,
            "grid_auto_columns": null,
            "grid_auto_flow": null,
            "grid_auto_rows": null,
            "grid_column": null,
            "grid_gap": null,
            "grid_row": null,
            "grid_template_areas": null,
            "grid_template_columns": null,
            "grid_template_rows": null,
            "height": null,
            "justify_content": null,
            "justify_items": null,
            "left": null,
            "margin": null,
            "max_height": null,
            "max_width": null,
            "min_height": null,
            "min_width": null,
            "object_fit": null,
            "object_position": null,
            "order": null,
            "overflow": null,
            "overflow_x": null,
            "overflow_y": null,
            "padding": null,
            "right": null,
            "top": null,
            "visibility": null,
            "width": null
          }
        },
        "042dc721da9e40a3b139f44892a112fe": {
          "model_module": "@jupyter-widgets/controls",
          "model_name": "ProgressStyleModel",
          "model_module_version": "1.5.0",
          "state": {
            "_model_module": "@jupyter-widgets/controls",
            "_model_module_version": "1.5.0",
            "_model_name": "ProgressStyleModel",
            "_view_count": null,
            "_view_module": "@jupyter-widgets/base",
            "_view_module_version": "1.2.0",
            "_view_name": "StyleView",
            "bar_color": null,
            "description_width": ""
          }
        },
        "de24eef6e17c408c849bcebc5d3e5e67": {
          "model_module": "@jupyter-widgets/base",
          "model_name": "LayoutModel",
          "model_module_version": "1.2.0",
          "state": {
            "_model_module": "@jupyter-widgets/base",
            "_model_module_version": "1.2.0",
            "_model_name": "LayoutModel",
            "_view_count": null,
            "_view_module": "@jupyter-widgets/base",
            "_view_module_version": "1.2.0",
            "_view_name": "LayoutView",
            "align_content": null,
            "align_items": null,
            "align_self": null,
            "border": null,
            "bottom": null,
            "display": null,
            "flex": null,
            "flex_flow": null,
            "grid_area": null,
            "grid_auto_columns": null,
            "grid_auto_flow": null,
            "grid_auto_rows": null,
            "grid_column": null,
            "grid_gap": null,
            "grid_row": null,
            "grid_template_areas": null,
            "grid_template_columns": null,
            "grid_template_rows": null,
            "height": null,
            "justify_content": null,
            "justify_items": null,
            "left": null,
            "margin": null,
            "max_height": null,
            "max_width": null,
            "min_height": null,
            "min_width": null,
            "object_fit": null,
            "object_position": null,
            "order": null,
            "overflow": null,
            "overflow_x": null,
            "overflow_y": null,
            "padding": null,
            "right": null,
            "top": null,
            "visibility": null,
            "width": null
          }
        },
        "515e5f80ec8a4f6495efebdc4b0a36e8": {
          "model_module": "@jupyter-widgets/controls",
          "model_name": "DescriptionStyleModel",
          "model_module_version": "1.5.0",
          "state": {
            "_model_module": "@jupyter-widgets/controls",
            "_model_module_version": "1.5.0",
            "_model_name": "DescriptionStyleModel",
            "_view_count": null,
            "_view_module": "@jupyter-widgets/base",
            "_view_module_version": "1.2.0",
            "_view_name": "StyleView",
            "description_width": ""
          }
        }
      }
    }
  },
  "nbformat": 4,
  "nbformat_minor": 5
}